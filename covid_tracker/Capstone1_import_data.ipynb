{
 "cells": [
  {
   "cell_type": "code",
   "execution_count": 153,
   "metadata": {},
   "outputs": [],
   "source": [
    "import csv\n",
    "import functools\n",
    "import matplotlib.pyplot as plt\n",
    "import pandas as pd\n",
    "import datetime"
   ]
  },
  {
   "cell_type": "code",
   "execution_count": 154,
   "metadata": {},
   "outputs": [],
   "source": [
    "df_states = pd.read_csv('daily_data.csv', usecols=[0,1,2,3])\n",
    "df_us = pd.read_csv('us_daily.csv')\n",
    "df_race = pd.read_csv('race_data.csv')\n",
    "df_race.rename(columns = {'Date':'date', 'Deaths_NHPI':'Deaths_Native_Hawaiian_Pacific_Islander', 'Deaths_AIAN': 'Deaths_americanIndian_alaskanNative'}, inplace=True)"
   ]
  },
  {
   "cell_type": "code",
   "execution_count": 155,
   "metadata": {},
   "outputs": [],
   "source": [
    "def datez(df):\n",
    "    df['date'] = df['date'].apply(lambda x: pd.to_datetime(x, format='%Y%m%d'))\n",
    "    return df"
   ]
  },
  {
   "cell_type": "code",
   "execution_count": 156,
   "metadata": {
    "collapsed": true,
    "jupyter": {
     "outputs_hidden": true
    }
   },
   "outputs": [
    {
     "ename": "TypeError",
     "evalue": "Invalid comparison between dtype=int64 and Timestamp",
     "output_type": "error",
     "traceback": [
      "\u001b[0;31m---------------------------------------------------------------------------\u001b[0m",
      "\u001b[0;31mTypeError\u001b[0m                                 Traceback (most recent call last)",
      "\u001b[0;32m<ipython-input-156-9f080701ed19>\u001b[0m in \u001b[0;36m<module>\u001b[0;34m\u001b[0m\n\u001b[0;32m----> 1\u001b[0;31m \u001b[0mdf_states\u001b[0m \u001b[0;34m=\u001b[0m \u001b[0mdf_states\u001b[0m\u001b[0;34m[\u001b[0m\u001b[0;34m'date'\u001b[0m\u001b[0;34m]\u001b[0m \u001b[0;34m>=\u001b[0m \u001b[0mpd\u001b[0m\u001b[0;34m.\u001b[0m\u001b[0mto_datetime\u001b[0m\u001b[0;34m(\u001b[0m\u001b[0;34m'2020-04-12'\u001b[0m\u001b[0;34m)\u001b[0m\u001b[0;34m\u001b[0m\u001b[0;34m\u001b[0m\u001b[0m\n\u001b[0m",
      "\u001b[0;32m/opt/conda/lib/python3.8/site-packages/pandas/core/ops/common.py\u001b[0m in \u001b[0;36mnew_method\u001b[0;34m(self, other)\u001b[0m\n\u001b[1;32m     62\u001b[0m         \u001b[0mother\u001b[0m \u001b[0;34m=\u001b[0m \u001b[0mitem_from_zerodim\u001b[0m\u001b[0;34m(\u001b[0m\u001b[0mother\u001b[0m\u001b[0;34m)\u001b[0m\u001b[0;34m\u001b[0m\u001b[0;34m\u001b[0m\u001b[0m\n\u001b[1;32m     63\u001b[0m \u001b[0;34m\u001b[0m\u001b[0m\n\u001b[0;32m---> 64\u001b[0;31m         \u001b[0;32mreturn\u001b[0m \u001b[0mmethod\u001b[0m\u001b[0;34m(\u001b[0m\u001b[0mself\u001b[0m\u001b[0;34m,\u001b[0m \u001b[0mother\u001b[0m\u001b[0;34m)\u001b[0m\u001b[0;34m\u001b[0m\u001b[0;34m\u001b[0m\u001b[0m\n\u001b[0m\u001b[1;32m     65\u001b[0m \u001b[0;34m\u001b[0m\u001b[0m\n\u001b[1;32m     66\u001b[0m     \u001b[0;32mreturn\u001b[0m \u001b[0mnew_method\u001b[0m\u001b[0;34m\u001b[0m\u001b[0;34m\u001b[0m\u001b[0m\n",
      "\u001b[0;32m/opt/conda/lib/python3.8/site-packages/pandas/core/ops/__init__.py\u001b[0m in \u001b[0;36mwrapper\u001b[0;34m(self, other)\u001b[0m\n\u001b[1;32m    527\u001b[0m         \u001b[0mrvalues\u001b[0m \u001b[0;34m=\u001b[0m \u001b[0mextract_array\u001b[0m\u001b[0;34m(\u001b[0m\u001b[0mother\u001b[0m\u001b[0;34m,\u001b[0m \u001b[0mextract_numpy\u001b[0m\u001b[0;34m=\u001b[0m\u001b[0;32mTrue\u001b[0m\u001b[0;34m)\u001b[0m\u001b[0;34m\u001b[0m\u001b[0;34m\u001b[0m\u001b[0m\n\u001b[1;32m    528\u001b[0m \u001b[0;34m\u001b[0m\u001b[0m\n\u001b[0;32m--> 529\u001b[0;31m         \u001b[0mres_values\u001b[0m \u001b[0;34m=\u001b[0m \u001b[0mcomparison_op\u001b[0m\u001b[0;34m(\u001b[0m\u001b[0mlvalues\u001b[0m\u001b[0;34m,\u001b[0m \u001b[0mrvalues\u001b[0m\u001b[0;34m,\u001b[0m \u001b[0mop\u001b[0m\u001b[0;34m)\u001b[0m\u001b[0;34m\u001b[0m\u001b[0;34m\u001b[0m\u001b[0m\n\u001b[0m\u001b[1;32m    530\u001b[0m \u001b[0;34m\u001b[0m\u001b[0m\n\u001b[1;32m    531\u001b[0m         \u001b[0;32mreturn\u001b[0m \u001b[0m_construct_result\u001b[0m\u001b[0;34m(\u001b[0m\u001b[0mself\u001b[0m\u001b[0;34m,\u001b[0m \u001b[0mres_values\u001b[0m\u001b[0;34m,\u001b[0m \u001b[0mindex\u001b[0m\u001b[0;34m=\u001b[0m\u001b[0mself\u001b[0m\u001b[0;34m.\u001b[0m\u001b[0mindex\u001b[0m\u001b[0;34m,\u001b[0m \u001b[0mname\u001b[0m\u001b[0;34m=\u001b[0m\u001b[0mres_name\u001b[0m\u001b[0;34m)\u001b[0m\u001b[0;34m\u001b[0m\u001b[0;34m\u001b[0m\u001b[0m\n",
      "\u001b[0;32m/opt/conda/lib/python3.8/site-packages/pandas/core/ops/array_ops.py\u001b[0m in \u001b[0;36mcomparison_op\u001b[0;34m(left, right, op)\u001b[0m\n\u001b[1;32m    254\u001b[0m \u001b[0;34m\u001b[0m\u001b[0m\n\u001b[1;32m    255\u001b[0m         \u001b[0;32mif\u001b[0m \u001b[0mres_values\u001b[0m \u001b[0;32mis\u001b[0m \u001b[0mNotImplemented\u001b[0m\u001b[0;34m:\u001b[0m\u001b[0;34m\u001b[0m\u001b[0;34m\u001b[0m\u001b[0m\n\u001b[0;32m--> 256\u001b[0;31m             \u001b[0mres_values\u001b[0m \u001b[0;34m=\u001b[0m \u001b[0minvalid_comparison\u001b[0m\u001b[0;34m(\u001b[0m\u001b[0mlvalues\u001b[0m\u001b[0;34m,\u001b[0m \u001b[0mrvalues\u001b[0m\u001b[0;34m,\u001b[0m \u001b[0mop\u001b[0m\u001b[0;34m)\u001b[0m\u001b[0;34m\u001b[0m\u001b[0;34m\u001b[0m\u001b[0m\n\u001b[0m\u001b[1;32m    257\u001b[0m         \u001b[0;32mif\u001b[0m \u001b[0mis_scalar\u001b[0m\u001b[0;34m(\u001b[0m\u001b[0mres_values\u001b[0m\u001b[0;34m)\u001b[0m\u001b[0;34m:\u001b[0m\u001b[0;34m\u001b[0m\u001b[0;34m\u001b[0m\u001b[0m\n\u001b[1;32m    258\u001b[0m             \u001b[0mtyp\u001b[0m \u001b[0;34m=\u001b[0m \u001b[0mtype\u001b[0m\u001b[0;34m(\u001b[0m\u001b[0mrvalues\u001b[0m\u001b[0;34m)\u001b[0m\u001b[0;34m\u001b[0m\u001b[0;34m\u001b[0m\u001b[0m\n",
      "\u001b[0;32m/opt/conda/lib/python3.8/site-packages/pandas/core/ops/invalid.py\u001b[0m in \u001b[0;36minvalid_comparison\u001b[0;34m(left, right, op)\u001b[0m\n\u001b[1;32m     32\u001b[0m     \u001b[0;32melse\u001b[0m\u001b[0;34m:\u001b[0m\u001b[0;34m\u001b[0m\u001b[0;34m\u001b[0m\u001b[0m\n\u001b[1;32m     33\u001b[0m         \u001b[0mtyp\u001b[0m \u001b[0;34m=\u001b[0m \u001b[0mtype\u001b[0m\u001b[0;34m(\u001b[0m\u001b[0mright\u001b[0m\u001b[0;34m)\u001b[0m\u001b[0;34m.\u001b[0m\u001b[0m__name__\u001b[0m\u001b[0;34m\u001b[0m\u001b[0;34m\u001b[0m\u001b[0m\n\u001b[0;32m---> 34\u001b[0;31m         \u001b[0;32mraise\u001b[0m \u001b[0mTypeError\u001b[0m\u001b[0;34m(\u001b[0m\u001b[0;34mf\"Invalid comparison between dtype={left.dtype} and {typ}\"\u001b[0m\u001b[0;34m)\u001b[0m\u001b[0;34m\u001b[0m\u001b[0;34m\u001b[0m\u001b[0m\n\u001b[0m\u001b[1;32m     35\u001b[0m     \u001b[0;32mreturn\u001b[0m \u001b[0mres_values\u001b[0m\u001b[0;34m\u001b[0m\u001b[0;34m\u001b[0m\u001b[0m\n\u001b[1;32m     36\u001b[0m \u001b[0;34m\u001b[0m\u001b[0m\n",
      "\u001b[0;31mTypeError\u001b[0m: Invalid comparison between dtype=int64 and Timestamp"
     ]
    }
   ],
   "source": [
    "df_states = df_states['date'] >= pd.to_datetime('2020-04-12')"
   ]
  },
  {
   "cell_type": "code",
   "execution_count": 157,
   "metadata": {},
   "outputs": [],
   "source": [
    "df_race.index = df_race.index - 55"
   ]
  },
  {
   "cell_type": "code",
   "execution_count": 158,
   "metadata": {},
   "outputs": [],
   "source": [
    "df_states.index = df_states.index + 1"
   ]
  },
  {
   "cell_type": "code",
   "execution_count": 159,
   "metadata": {},
   "outputs": [],
   "source": [
    "df_race.drop(['Deaths_Ethnicity_NonHispanic'], axis=1, inplace=True)"
   ]
  },
  {
   "cell_type": "code",
   "execution_count": 161,
   "metadata": {},
   "outputs": [],
   "source": [
    "datez(df_race)\n",
    "df_race.index = df_race.index + 55"
   ]
  },
  {
   "cell_type": "code",
   "execution_count": 191,
   "metadata": {},
   "outputs": [
    {
     "data": {
      "text/plain": [
       "(7409, 4)"
      ]
     },
     "execution_count": 191,
     "metadata": {},
     "output_type": "execute_result"
    }
   ],
   "source": [
    "datez(df_states)\n",
    "df_states.shape"
   ]
  },
  {
   "cell_type": "code",
   "execution_count": 192,
   "metadata": {},
   "outputs": [
    {
     "data": {
      "text/plain": [
       "(1616, 27)"
      ]
     },
     "execution_count": 192,
     "metadata": {},
     "output_type": "execute_result"
    }
   ],
   "source": [
    "df_race.shape"
   ]
  },
  {
   "cell_type": "code",
   "execution_count": 194,
   "metadata": {
    "collapsed": true,
    "jupyter": {
     "outputs_hidden": true
    }
   },
   "outputs": [
    {
     "ename": "KeyError",
     "evalue": "\"None of ['state'] are in the columns\"",
     "output_type": "error",
     "traceback": [
      "\u001b[0;31m---------------------------------------------------------------------------\u001b[0m",
      "\u001b[0;31mKeyError\u001b[0m                                  Traceback (most recent call last)",
      "\u001b[0;32m<ipython-input-194-d6f03215015d>\u001b[0m in \u001b[0;36m<module>\u001b[0;34m\u001b[0m\n\u001b[0;32m----> 1\u001b[0;31m \u001b[0mdf_states\u001b[0m\u001b[0;34m.\u001b[0m\u001b[0mset_index\u001b[0m\u001b[0;34m(\u001b[0m\u001b[0;34m'state'\u001b[0m\u001b[0;34m,\u001b[0m \u001b[0minplace\u001b[0m\u001b[0;34m=\u001b[0m\u001b[0;32mTrue\u001b[0m\u001b[0;34m)\u001b[0m\u001b[0;34m\u001b[0m\u001b[0;34m\u001b[0m\u001b[0m\n\u001b[0m\u001b[1;32m      2\u001b[0m \u001b[0mdf_states\u001b[0m\u001b[0;34m.\u001b[0m\u001b[0mhead\u001b[0m\u001b[0;34m(\u001b[0m\u001b[0;34m)\u001b[0m\u001b[0;34m\u001b[0m\u001b[0;34m\u001b[0m\u001b[0m\n",
      "\u001b[0;32m/opt/conda/lib/python3.8/site-packages/pandas/core/frame.py\u001b[0m in \u001b[0;36mset_index\u001b[0;34m(self, keys, drop, append, inplace, verify_integrity)\u001b[0m\n\u001b[1;32m   4301\u001b[0m \u001b[0;34m\u001b[0m\u001b[0m\n\u001b[1;32m   4302\u001b[0m         \u001b[0;32mif\u001b[0m \u001b[0mmissing\u001b[0m\u001b[0;34m:\u001b[0m\u001b[0;34m\u001b[0m\u001b[0;34m\u001b[0m\u001b[0m\n\u001b[0;32m-> 4303\u001b[0;31m             \u001b[0;32mraise\u001b[0m \u001b[0mKeyError\u001b[0m\u001b[0;34m(\u001b[0m\u001b[0;34mf\"None of {missing} are in the columns\"\u001b[0m\u001b[0;34m)\u001b[0m\u001b[0;34m\u001b[0m\u001b[0;34m\u001b[0m\u001b[0m\n\u001b[0m\u001b[1;32m   4304\u001b[0m \u001b[0;34m\u001b[0m\u001b[0m\n\u001b[1;32m   4305\u001b[0m         \u001b[0;32mif\u001b[0m \u001b[0minplace\u001b[0m\u001b[0;34m:\u001b[0m\u001b[0;34m\u001b[0m\u001b[0;34m\u001b[0m\u001b[0m\n",
      "\u001b[0;31mKeyError\u001b[0m: \"None of ['state'] are in the columns\""
     ]
    }
   ],
   "source": [
    "df_states.set_index('state', inplace=True)"
   ]
  },
  {
   "cell_type": "code",
   "execution_count": 195,
   "metadata": {},
   "outputs": [
    {
     "data": {
      "text/html": [
       "<div>\n",
       "<style scoped>\n",
       "    .dataframe tbody tr th:only-of-type {\n",
       "        vertical-align: middle;\n",
       "    }\n",
       "\n",
       "    .dataframe tbody tr th {\n",
       "        vertical-align: top;\n",
       "    }\n",
       "\n",
       "    .dataframe thead th {\n",
       "        text-align: right;\n",
       "    }\n",
       "</style>\n",
       "<table border=\"1\" class=\"dataframe\">\n",
       "  <thead>\n",
       "    <tr style=\"text-align: right;\">\n",
       "      <th></th>\n",
       "      <th>date</th>\n",
       "      <th>positive</th>\n",
       "      <th>negative</th>\n",
       "    </tr>\n",
       "    <tr>\n",
       "      <th>state</th>\n",
       "      <th></th>\n",
       "      <th></th>\n",
       "      <th></th>\n",
       "    </tr>\n",
       "  </thead>\n",
       "  <tbody>\n",
       "    <tr>\n",
       "      <th>AK</th>\n",
       "      <td>2020-07-15</td>\n",
       "      <td>1631.0</td>\n",
       "      <td>154462.0</td>\n",
       "    </tr>\n",
       "    <tr>\n",
       "      <th>AL</th>\n",
       "      <td>2020-07-15</td>\n",
       "      <td>59067.0</td>\n",
       "      <td>481982.0</td>\n",
       "    </tr>\n",
       "    <tr>\n",
       "      <th>AR</th>\n",
       "      <td>2020-07-15</td>\n",
       "      <td>30297.0</td>\n",
       "      <td>365479.0</td>\n",
       "    </tr>\n",
       "    <tr>\n",
       "      <th>AS</th>\n",
       "      <td>2020-07-15</td>\n",
       "      <td>0.0</td>\n",
       "      <td>816.0</td>\n",
       "    </tr>\n",
       "    <tr>\n",
       "      <th>AZ</th>\n",
       "      <td>2020-07-15</td>\n",
       "      <td>131354.0</td>\n",
       "      <td>604608.0</td>\n",
       "    </tr>\n",
       "  </tbody>\n",
       "</table>\n",
       "</div>"
      ],
      "text/plain": [
       "            date  positive  negative\n",
       "state                               \n",
       "AK    2020-07-15    1631.0  154462.0\n",
       "AL    2020-07-15   59067.0  481982.0\n",
       "AR    2020-07-15   30297.0  365479.0\n",
       "AS    2020-07-15       0.0     816.0\n",
       "AZ    2020-07-15  131354.0  604608.0"
      ]
     },
     "execution_count": 195,
     "metadata": {},
     "output_type": "execute_result"
    }
   ],
   "source": [
    "# df_race['Cases_Total'] = df_race['Cases_Total'].apply(pd.to_numeric, errors='coerce')\n",
    "# df_race['Cases_Total'] = x.apply(pd.to_numeric, errors='coerce')\n",
    "df_states.head()"
   ]
  },
  {
   "cell_type": "code",
   "execution_count": 199,
   "metadata": {},
   "outputs": [
    {
     "data": {
      "text/html": [
       "<div>\n",
       "<style scoped>\n",
       "    .dataframe tbody tr th:only-of-type {\n",
       "        vertical-align: middle;\n",
       "    }\n",
       "\n",
       "    .dataframe tbody tr th {\n",
       "        vertical-align: top;\n",
       "    }\n",
       "\n",
       "    .dataframe thead th {\n",
       "        text-align: right;\n",
       "    }\n",
       "</style>\n",
       "<table border=\"1\" class=\"dataframe\">\n",
       "  <thead>\n",
       "    <tr style=\"text-align: right;\">\n",
       "      <th></th>\n",
       "      <th>positive</th>\n",
       "      <th>negative</th>\n",
       "    </tr>\n",
       "  </thead>\n",
       "  <tbody>\n",
       "    <tr>\n",
       "      <th>count</th>\n",
       "      <td>7394.000000</td>\n",
       "      <td>7.253000e+03</td>\n",
       "    </tr>\n",
       "    <tr>\n",
       "      <th>mean</th>\n",
       "      <td>23932.447119</td>\n",
       "      <td>2.187270e+05</td>\n",
       "    </tr>\n",
       "    <tr>\n",
       "      <th>std</th>\n",
       "      <td>51605.624956</td>\n",
       "      <td>4.646430e+05</td>\n",
       "    </tr>\n",
       "    <tr>\n",
       "      <th>min</th>\n",
       "      <td>0.000000</td>\n",
       "      <td>0.000000e+00</td>\n",
       "    </tr>\n",
       "    <tr>\n",
       "      <th>25%</th>\n",
       "      <td>523.000000</td>\n",
       "      <td>9.900000e+03</td>\n",
       "    </tr>\n",
       "    <tr>\n",
       "      <th>50%</th>\n",
       "      <td>5314.000000</td>\n",
       "      <td>6.445800e+04</td>\n",
       "    </tr>\n",
       "    <tr>\n",
       "      <th>75%</th>\n",
       "      <td>24165.500000</td>\n",
       "      <td>2.297390e+05</td>\n",
       "    </tr>\n",
       "    <tr>\n",
       "      <th>max</th>\n",
       "      <td>404006.000000</td>\n",
       "      <td>5.445642e+06</td>\n",
       "    </tr>\n",
       "  </tbody>\n",
       "</table>\n",
       "</div>"
      ],
      "text/plain": [
       "            positive      negative\n",
       "count    7394.000000  7.253000e+03\n",
       "mean    23932.447119  2.187270e+05\n",
       "std     51605.624956  4.646430e+05\n",
       "min         0.000000  0.000000e+00\n",
       "25%       523.000000  9.900000e+03\n",
       "50%      5314.000000  6.445800e+04\n",
       "75%     24165.500000  2.297390e+05\n",
       "max    404006.000000  5.445642e+06"
      ]
     },
     "execution_count": 199,
     "metadata": {},
     "output_type": "execute_result"
    }
   ],
   "source": [
    "df_states.describe()"
   ]
  },
  {
   "cell_type": "code",
   "execution_count": 211,
   "metadata": {},
   "outputs": [
    {
     "data": {
      "text/html": [
       "<div>\n",
       "<style scoped>\n",
       "    .dataframe tbody tr th:only-of-type {\n",
       "        vertical-align: middle;\n",
       "    }\n",
       "\n",
       "    .dataframe tbody tr th {\n",
       "        vertical-align: top;\n",
       "    }\n",
       "\n",
       "    .dataframe thead th {\n",
       "        text-align: right;\n",
       "    }\n",
       "</style>\n",
       "<table border=\"1\" class=\"dataframe\">\n",
       "  <thead>\n",
       "    <tr style=\"text-align: right;\">\n",
       "      <th></th>\n",
       "      <th>Cases_Total</th>\n",
       "      <th>Cases_Black</th>\n",
       "      <th>Cases_LatinX</th>\n",
       "      <th>Cases_Asian</th>\n",
       "      <th>Cases_AIAN</th>\n",
       "      <th>Cases_NHPI</th>\n",
       "      <th>Cases_Multiracial</th>\n",
       "      <th>Cases_Other</th>\n",
       "      <th>Cases_Unknown</th>\n",
       "      <th>Cases_Ethnicity_Hispanic</th>\n",
       "      <th>...</th>\n",
       "      <th>Deaths_Black</th>\n",
       "      <th>Deaths_LatinX</th>\n",
       "      <th>Deaths_Asian</th>\n",
       "      <th>Deaths_americanIndian_alaskanNative</th>\n",
       "      <th>Deaths_Native_Hawaiian_Pacific_Islander</th>\n",
       "      <th>Deaths_Multiracial</th>\n",
       "      <th>Deaths_Other</th>\n",
       "      <th>Deaths_Unknown</th>\n",
       "      <th>Deaths_Ethnicity_Hispanic</th>\n",
       "      <th>Deaths_Ethnicity_Unknown</th>\n",
       "    </tr>\n",
       "  </thead>\n",
       "  <tbody>\n",
       "    <tr>\n",
       "      <th>count</th>\n",
       "      <td>1454.000000</td>\n",
       "      <td>1293.000000</td>\n",
       "      <td>561.000000</td>\n",
       "      <td>1165.000000</td>\n",
       "      <td>795.000000</td>\n",
       "      <td>521.000000</td>\n",
       "      <td>417.000000</td>\n",
       "      <td>1235.000000</td>\n",
       "      <td>1424.000000</td>\n",
       "      <td>1169.000000</td>\n",
       "      <td>...</td>\n",
       "      <td>1152.000000</td>\n",
       "      <td>553.000000</td>\n",
       "      <td>1021.000000</td>\n",
       "      <td>567.000000</td>\n",
       "      <td>350.000000</td>\n",
       "      <td>313.000000</td>\n",
       "      <td>1064.000000</td>\n",
       "      <td>1363.000000</td>\n",
       "      <td>1078.000000</td>\n",
       "      <td>1099.000000</td>\n",
       "    </tr>\n",
       "    <tr>\n",
       "      <th>mean</th>\n",
       "      <td>3.066713</td>\n",
       "      <td>4660.708430</td>\n",
       "      <td>11608.167558</td>\n",
       "      <td>830.139914</td>\n",
       "      <td>442.777358</td>\n",
       "      <td>203.923225</td>\n",
       "      <td>592.441247</td>\n",
       "      <td>1900.225101</td>\n",
       "      <td>16024.283006</td>\n",
       "      <td>7383.313944</td>\n",
       "      <td>...</td>\n",
       "      <td>480.442708</td>\n",
       "      <td>611.433996</td>\n",
       "      <td>96.532811</td>\n",
       "      <td>22.844797</td>\n",
       "      <td>6.045714</td>\n",
       "      <td>17.504792</td>\n",
       "      <td>78.013158</td>\n",
       "      <td>206.578870</td>\n",
       "      <td>326.178108</td>\n",
       "      <td>261.083712</td>\n",
       "    </tr>\n",
       "    <tr>\n",
       "      <th>std</th>\n",
       "      <td>6.030008</td>\n",
       "      <td>6234.118986</td>\n",
       "      <td>17233.796816</td>\n",
       "      <td>1480.753712</td>\n",
       "      <td>1156.671400</td>\n",
       "      <td>481.948810</td>\n",
       "      <td>1054.054921</td>\n",
       "      <td>3337.815226</td>\n",
       "      <td>49872.339909</td>\n",
       "      <td>12926.163784</td>\n",
       "      <td>...</td>\n",
       "      <td>910.953396</td>\n",
       "      <td>1254.227149</td>\n",
       "      <td>256.484805</td>\n",
       "      <td>57.916297</td>\n",
       "      <td>7.316674</td>\n",
       "      <td>25.794320</td>\n",
       "      <td>243.101413</td>\n",
       "      <td>668.036006</td>\n",
       "      <td>933.858375</td>\n",
       "      <td>612.468137</td>\n",
       "    </tr>\n",
       "    <tr>\n",
       "      <th>min</th>\n",
       "      <td>0.000000</td>\n",
       "      <td>1.000000</td>\n",
       "      <td>0.000000</td>\n",
       "      <td>0.000000</td>\n",
       "      <td>0.000000</td>\n",
       "      <td>0.000000</td>\n",
       "      <td>0.000000</td>\n",
       "      <td>0.000000</td>\n",
       "      <td>0.000000</td>\n",
       "      <td>2.000000</td>\n",
       "      <td>...</td>\n",
       "      <td>0.000000</td>\n",
       "      <td>1.000000</td>\n",
       "      <td>0.000000</td>\n",
       "      <td>0.000000</td>\n",
       "      <td>0.000000</td>\n",
       "      <td>0.000000</td>\n",
       "      <td>0.000000</td>\n",
       "      <td>0.000000</td>\n",
       "      <td>0.000000</td>\n",
       "      <td>0.000000</td>\n",
       "    </tr>\n",
       "    <tr>\n",
       "      <th>25%</th>\n",
       "      <td>0.000000</td>\n",
       "      <td>415.000000</td>\n",
       "      <td>1271.000000</td>\n",
       "      <td>86.000000</td>\n",
       "      <td>34.500000</td>\n",
       "      <td>21.000000</td>\n",
       "      <td>54.000000</td>\n",
       "      <td>184.000000</td>\n",
       "      <td>483.500000</td>\n",
       "      <td>898.000000</td>\n",
       "      <td>...</td>\n",
       "      <td>35.000000</td>\n",
       "      <td>45.000000</td>\n",
       "      <td>3.000000</td>\n",
       "      <td>2.000000</td>\n",
       "      <td>1.000000</td>\n",
       "      <td>2.000000</td>\n",
       "      <td>5.000000</td>\n",
       "      <td>10.500000</td>\n",
       "      <td>15.000000</td>\n",
       "      <td>18.000000</td>\n",
       "    </tr>\n",
       "    <tr>\n",
       "      <th>50%</th>\n",
       "      <td>1.000000</td>\n",
       "      <td>1903.000000</td>\n",
       "      <td>5710.000000</td>\n",
       "      <td>367.000000</td>\n",
       "      <td>104.000000</td>\n",
       "      <td>73.000000</td>\n",
       "      <td>232.000000</td>\n",
       "      <td>609.000000</td>\n",
       "      <td>3059.500000</td>\n",
       "      <td>3306.000000</td>\n",
       "      <td>...</td>\n",
       "      <td>130.500000</td>\n",
       "      <td>142.000000</td>\n",
       "      <td>12.000000</td>\n",
       "      <td>7.000000</td>\n",
       "      <td>4.000000</td>\n",
       "      <td>8.000000</td>\n",
       "      <td>12.000000</td>\n",
       "      <td>42.000000</td>\n",
       "      <td>48.000000</td>\n",
       "      <td>65.000000</td>\n",
       "    </tr>\n",
       "    <tr>\n",
       "      <th>75%</th>\n",
       "      <td>3.000000</td>\n",
       "      <td>6331.000000</td>\n",
       "      <td>14155.000000</td>\n",
       "      <td>901.000000</td>\n",
       "      <td>283.500000</td>\n",
       "      <td>213.000000</td>\n",
       "      <td>574.000000</td>\n",
       "      <td>2440.500000</td>\n",
       "      <td>10272.750000</td>\n",
       "      <td>7711.000000</td>\n",
       "      <td>...</td>\n",
       "      <td>476.250000</td>\n",
       "      <td>431.000000</td>\n",
       "      <td>54.000000</td>\n",
       "      <td>16.000000</td>\n",
       "      <td>7.000000</td>\n",
       "      <td>19.000000</td>\n",
       "      <td>35.000000</td>\n",
       "      <td>109.500000</td>\n",
       "      <td>171.000000</td>\n",
       "      <td>154.500000</td>\n",
       "    </tr>\n",
       "    <tr>\n",
       "      <th>max</th>\n",
       "      <td>40.000000</td>\n",
       "      <td>48659.000000</td>\n",
       "      <td>137657.000000</td>\n",
       "      <td>14187.000000</td>\n",
       "      <td>8827.000000</td>\n",
       "      <td>8787.000000</td>\n",
       "      <td>5428.000000</td>\n",
       "      <td>37417.000000</td>\n",
       "      <td>406807.000000</td>\n",
       "      <td>137657.000000</td>\n",
       "      <td>...</td>\n",
       "      <td>6345.000000</td>\n",
       "      <td>6658.000000</td>\n",
       "      <td>1702.000000</td>\n",
       "      <td>512.000000</td>\n",
       "      <td>40.000000</td>\n",
       "      <td>111.000000</td>\n",
       "      <td>1805.000000</td>\n",
       "      <td>7929.000000</td>\n",
       "      <td>6658.000000</td>\n",
       "      <td>5426.000000</td>\n",
       "    </tr>\n",
       "  </tbody>\n",
       "</table>\n",
       "<p>8 rows × 24 columns</p>\n",
       "</div>"
      ],
      "text/plain": [
       "       Cases_Total   Cases_Black   Cases_LatinX   Cases_Asian   Cases_AIAN  \\\n",
       "count  1454.000000   1293.000000     561.000000   1165.000000   795.000000   \n",
       "mean      3.066713   4660.708430   11608.167558    830.139914   442.777358   \n",
       "std       6.030008   6234.118986   17233.796816   1480.753712  1156.671400   \n",
       "min       0.000000      1.000000       0.000000      0.000000     0.000000   \n",
       "25%       0.000000    415.000000    1271.000000     86.000000    34.500000   \n",
       "50%       1.000000   1903.000000    5710.000000    367.000000   104.000000   \n",
       "75%       3.000000   6331.000000   14155.000000    901.000000   283.500000   \n",
       "max      40.000000  48659.000000  137657.000000  14187.000000  8827.000000   \n",
       "\n",
       "        Cases_NHPI  Cases_Multiracial   Cases_Other  Cases_Unknown  \\\n",
       "count   521.000000         417.000000   1235.000000    1424.000000   \n",
       "mean    203.923225         592.441247   1900.225101   16024.283006   \n",
       "std     481.948810        1054.054921   3337.815226   49872.339909   \n",
       "min       0.000000           0.000000      0.000000       0.000000   \n",
       "25%      21.000000          54.000000    184.000000     483.500000   \n",
       "50%      73.000000         232.000000    609.000000    3059.500000   \n",
       "75%     213.000000         574.000000   2440.500000   10272.750000   \n",
       "max    8787.000000        5428.000000  37417.000000  406807.000000   \n",
       "\n",
       "       Cases_Ethnicity_Hispanic  ...  Deaths_Black  Deaths_LatinX  \\\n",
       "count               1169.000000  ...   1152.000000     553.000000   \n",
       "mean                7383.313944  ...    480.442708     611.433996   \n",
       "std                12926.163784  ...    910.953396    1254.227149   \n",
       "min                    2.000000  ...      0.000000       1.000000   \n",
       "25%                  898.000000  ...     35.000000      45.000000   \n",
       "50%                 3306.000000  ...    130.500000     142.000000   \n",
       "75%                 7711.000000  ...    476.250000     431.000000   \n",
       "max               137657.000000  ...   6345.000000    6658.000000   \n",
       "\n",
       "       Deaths_Asian  Deaths_americanIndian_alaskanNative  \\\n",
       "count   1021.000000                           567.000000   \n",
       "mean      96.532811                            22.844797   \n",
       "std      256.484805                            57.916297   \n",
       "min        0.000000                             0.000000   \n",
       "25%        3.000000                             2.000000   \n",
       "50%       12.000000                             7.000000   \n",
       "75%       54.000000                            16.000000   \n",
       "max     1702.000000                           512.000000   \n",
       "\n",
       "       Deaths_Native_Hawaiian_Pacific_Islander  Deaths_Multiracial  \\\n",
       "count                               350.000000          313.000000   \n",
       "mean                                  6.045714           17.504792   \n",
       "std                                   7.316674           25.794320   \n",
       "min                                   0.000000            0.000000   \n",
       "25%                                   1.000000            2.000000   \n",
       "50%                                   4.000000            8.000000   \n",
       "75%                                   7.000000           19.000000   \n",
       "max                                  40.000000          111.000000   \n",
       "\n",
       "       Deaths_Other  Deaths_Unknown  Deaths_Ethnicity_Hispanic  \\\n",
       "count   1064.000000     1363.000000                1078.000000   \n",
       "mean      78.013158      206.578870                 326.178108   \n",
       "std      243.101413      668.036006                 933.858375   \n",
       "min        0.000000        0.000000                   0.000000   \n",
       "25%        5.000000       10.500000                  15.000000   \n",
       "50%       12.000000       42.000000                  48.000000   \n",
       "75%       35.000000      109.500000                 171.000000   \n",
       "max     1805.000000     7929.000000                6658.000000   \n",
       "\n",
       "       Deaths_Ethnicity_Unknown  \n",
       "count               1099.000000  \n",
       "mean                 261.083712  \n",
       "std                  612.468137  \n",
       "min                    0.000000  \n",
       "25%                   18.000000  \n",
       "50%                   65.000000  \n",
       "75%                  154.500000  \n",
       "max                 5426.000000  \n",
       "\n",
       "[8 rows x 24 columns]"
      ]
     },
     "execution_count": 211,
     "metadata": {},
     "output_type": "execute_result"
    }
   ],
   "source": [
    "df_race.describe()"
   ]
  },
  {
   "cell_type": "code",
   "execution_count": 215,
   "metadata": {},
   "outputs": [],
   "source": [
    "df_race.set_index('State', inplace=True)"
   ]
  },
  {
   "cell_type": "code",
   "execution_count": 218,
   "metadata": {},
   "outputs": [],
   "source": [
    "df_states.sort_values(by=['date'], inplace=True, ascending=True)"
   ]
  },
  {
   "cell_type": "code",
   "execution_count": 220,
   "metadata": {},
   "outputs": [],
   "source": [
    "df_race.sort_values(by=['date'], inplace=True, ascending=True)"
   ]
  },
  {
   "cell_type": "code",
   "execution_count": 319,
   "metadata": {},
   "outputs": [
    {
     "data": {
      "text/html": [
       "<div>\n",
       "<style scoped>\n",
       "    .dataframe tbody tr th:only-of-type {\n",
       "        vertical-align: middle;\n",
       "    }\n",
       "\n",
       "    .dataframe tbody tr th {\n",
       "        vertical-align: top;\n",
       "    }\n",
       "\n",
       "    .dataframe thead th {\n",
       "        text-align: right;\n",
       "    }\n",
       "</style>\n",
       "<table border=\"1\" class=\"dataframe\">\n",
       "  <thead>\n",
       "    <tr style=\"text-align: right;\">\n",
       "      <th></th>\n",
       "      <th>positive</th>\n",
       "      <th>negative</th>\n",
       "    </tr>\n",
       "  </thead>\n",
       "  <tbody>\n",
       "    <tr>\n",
       "      <th>count</th>\n",
       "      <td>5.600000e+01</td>\n",
       "      <td>5.600000e+01</td>\n",
       "    </tr>\n",
       "    <tr>\n",
       "      <th>mean</th>\n",
       "      <td>3.159938e+06</td>\n",
       "      <td>2.832906e+07</td>\n",
       "    </tr>\n",
       "    <tr>\n",
       "      <th>std</th>\n",
       "      <td>5.371209e+06</td>\n",
       "      <td>3.842556e+07</td>\n",
       "    </tr>\n",
       "    <tr>\n",
       "      <th>min</th>\n",
       "      <td>0.000000e+00</td>\n",
       "      <td>2.329900e+04</td>\n",
       "    </tr>\n",
       "    <tr>\n",
       "      <th>25%</th>\n",
       "      <td>4.111938e+05</td>\n",
       "      <td>6.121090e+06</td>\n",
       "    </tr>\n",
       "    <tr>\n",
       "      <th>50%</th>\n",
       "      <td>1.315333e+06</td>\n",
       "      <td>1.794885e+07</td>\n",
       "    </tr>\n",
       "    <tr>\n",
       "      <th>75%</th>\n",
       "      <td>3.517736e+06</td>\n",
       "      <td>3.474759e+07</td>\n",
       "    </tr>\n",
       "    <tr>\n",
       "      <th>max</th>\n",
       "      <td>3.487869e+07</td>\n",
       "      <td>1.987453e+08</td>\n",
       "    </tr>\n",
       "  </tbody>\n",
       "</table>\n",
       "</div>"
      ],
      "text/plain": [
       "           positive      negative\n",
       "count  5.600000e+01  5.600000e+01\n",
       "mean   3.159938e+06  2.832906e+07\n",
       "std    5.371209e+06  3.842556e+07\n",
       "min    0.000000e+00  2.329900e+04\n",
       "25%    4.111938e+05  6.121090e+06\n",
       "50%    1.315333e+06  1.794885e+07\n",
       "75%    3.517736e+06  3.474759e+07\n",
       "max    3.487869e+07  1.987453e+08"
      ]
     },
     "execution_count": 319,
     "metadata": {},
     "output_type": "execute_result"
    }
   ],
   "source": [
    "\n",
    "df_states_groupby = df_states.groupby('state').sum().sort_values('positive')\n",
    "df_states_groupby.describe()"
   ]
  },
  {
   "cell_type": "code",
   "execution_count": 308,
   "metadata": {},
   "outputs": [],
   "source": [
    "df_states.drop(['level_0', 'index'], axis=1, inplace=True)"
   ]
  },
  {
   "cell_type": "markdown",
   "metadata": {},
   "source": [
    "**Graphs of Total Positive Covid Cases by State**"
   ]
  },
  {
   "cell_type": "code",
   "execution_count": 326,
   "metadata": {},
   "outputs": [],
   "source": [
    "df_state_25 = df_states_groupby[df_states_groupby['positive'] <= 411193]\n",
    "df_state_50 = df_states_groupby[(df_states_groupby['positive'] > 411193) & (df_states_groupby['positive'] <= 1315333)]\n",
    "df_state_75 = df_states_groupby[(df_states_groupby['positive'] > 1315333) & (df_states_groupby['positive'] <= 3517736)]\n",
    "df_state_100 = df_states_groupby[(df_states_groupby['positive'] > 3517736) & (df_states_groupby['positive'] <= 34878690)]"
   ]
  },
  {
   "cell_type": "code",
   "execution_count": 354,
   "metadata": {
    "collapsed": true,
    "jupyter": {
     "outputs_hidden": true
    }
   },
   "outputs": [
    {
     "data": {
      "image/png": "[encoded data removed]",
      "text/plain": [
       "<Figure size 1008x864 with 1 Axes>"
      ]
     },
     "metadata": {
      "needs_background": "light"
     },
     "output_type": "display_data"
    }
   ],
   "source": [
    "fig, ax = plt.subplots(figsize=(14,12))\n",
    "ax.bar(x = df_state_25.index, height=df_state_25['positive'])\n",
    "ax.set_title('25th Percentile Positive Covid Cases per State/Territory', fontsize=15)\n",
    "ax.set_xlabel('States', fontsize=15, labelpad=33)\n",
    "ax.set_ylabel('Sum x 10^6', rotation=0, labelpad=75, fontsize=15)\n",
    "plt.show()"
   ]
  },
  {
   "cell_type": "code",
   "execution_count": 355,
   "metadata": {
    "collapsed": true,
    "jupyter": {
     "outputs_hidden": true
    }
   },
   "outputs": [
    {
     "data": {
      "image/png": "[encoded data removed]",
      "text/plain": [
       "<Figure size 1008x864 with 1 Axes>"
      ]
     },
     "metadata": {
      "needs_background": "light"
     },
     "output_type": "display_data"
    }
   ],
   "source": [
    "fig, ax = plt.subplots(figsize=(14,12))\n",
    "ax.bar(x = df_state_50.index, height=df_state_50['positive'])\n",
    "ax.set_title('50th Percentile Positive Covid Cases per State/Territory', fontsize=15)\n",
    "ax.set_xlabel('States', fontsize=15, labelpad=33)\n",
    "ax.set_ylabel('Sum x 10^6', rotation=0, labelpad=75, fontsize=15)\n",
    "plt.show()"
   ]
  },
  {
   "cell_type": "code",
   "execution_count": 356,
   "metadata": {
    "collapsed": true,
    "jupyter": {
     "outputs_hidden": true
    }
   },
   "outputs": [
    {
     "data": {
      "image/png": "[encoded data removed]",
      "text/plain": [
       "<Figure size 1008x864 with 1 Axes>"
      ]
     },
     "metadata": {
      "needs_background": "light"
     },
     "output_type": "display_data"
    }
   ],
   "source": [
    "fig, ax = plt.subplots(figsize=(14,12))\n",
    "ax.bar(x = df_state_75.index, height=df_state_75['positive'])\n",
    "ax.set_title('75th Percentile Positive Covid Cases per State/Territory', fontsize=15)\n",
    "ax.set_xlabel('States', fontsize=15, labelpad=33)\n",
    "ax.set_ylabel('Sum x 10^6', rotation=0, labelpad=75, fontsize=15)\n",
    "plt.show()"
   ]
  },
  {
   "cell_type": "code",
   "execution_count": 352,
   "metadata": {
    "collapsed": true,
    "jupyter": {
     "outputs_hidden": true
    }
   },
   "outputs": [
    {
     "data": {
      "image/png": "[encoded data removed]",
      "text/plain": [
       "<Figure size 1008x864 with 1 Axes>"
      ]
     },
     "metadata": {
      "needs_background": "light"
     },
     "output_type": "display_data"
    }
   ],
   "source": [
    "fig, ax = plt.subplots(figsize=(14,12))\n",
    "ax.bar(x = df_state_100.index, height=df_state_100['positive'])\n",
    "ax.set_title('100th Percentile Positive Covid Cases per State/Territory', fontsize=15)\n",
    "ax.set_xlabel('States', fontsize=15, labelpad=33)\n",
    "ax.set_ylabel('Sum x 10^7', rotation=0, labelpad=75, fontsize=15)\n",
    "plt.show()"
   ]
  },
  {
   "cell_type": "code",
   "execution_count": 357,
   "metadata": {
    "collapsed": true,
    "jupyter": {
     "outputs_hidden": true
    }
   },
   "outputs": [
    {
     "data": {
      "text/html": [
       "<div>\n",
       "<style scoped>\n",
       "    .dataframe tbody tr th:only-of-type {\n",
       "        vertical-align: middle;\n",
       "    }\n",
       "\n",
       "    .dataframe tbody tr th {\n",
       "        vertical-align: top;\n",
       "    }\n",
       "\n",
       "    .dataframe thead th {\n",
       "        text-align: right;\n",
       "    }\n",
       "</style>\n",
       "<table border=\"1\" class=\"dataframe\">\n",
       "  <thead>\n",
       "    <tr style=\"text-align: right;\">\n",
       "      <th></th>\n",
       "      <th>Cases_Total</th>\n",
       "      <th>Cases_Black</th>\n",
       "      <th>Cases_LatinX</th>\n",
       "      <th>Cases_Asian</th>\n",
       "      <th>Cases_AIAN</th>\n",
       "      <th>Cases_NHPI</th>\n",
       "      <th>Cases_Multiracial</th>\n",
       "      <th>Cases_Other</th>\n",
       "      <th>Cases_Unknown</th>\n",
       "      <th>Cases_Ethnicity_Hispanic</th>\n",
       "      <th>...</th>\n",
       "      <th>Deaths_Black</th>\n",
       "      <th>Deaths_LatinX</th>\n",
       "      <th>Deaths_Asian</th>\n",
       "      <th>Deaths_americanIndian_alaskanNative</th>\n",
       "      <th>Deaths_Native_Hawaiian_Pacific_Islander</th>\n",
       "      <th>Deaths_Multiracial</th>\n",
       "      <th>Deaths_Other</th>\n",
       "      <th>Deaths_Unknown</th>\n",
       "      <th>Deaths_Ethnicity_Hispanic</th>\n",
       "      <th>Deaths_Ethnicity_Unknown</th>\n",
       "    </tr>\n",
       "  </thead>\n",
       "  <tbody>\n",
       "    <tr>\n",
       "      <th>count</th>\n",
       "      <td>1454.000000</td>\n",
       "      <td>1293.000000</td>\n",
       "      <td>561.000000</td>\n",
       "      <td>1165.000000</td>\n",
       "      <td>795.000000</td>\n",
       "      <td>521.000000</td>\n",
       "      <td>417.000000</td>\n",
       "      <td>1235.000000</td>\n",
       "      <td>1424.000000</td>\n",
       "      <td>1169.000000</td>\n",
       "      <td>...</td>\n",
       "      <td>1152.000000</td>\n",
       "      <td>553.000000</td>\n",
       "      <td>1021.000000</td>\n",
       "      <td>567.000000</td>\n",
       "      <td>350.000000</td>\n",
       "      <td>313.000000</td>\n",
       "      <td>1064.000000</td>\n",
       "      <td>1363.000000</td>\n",
       "      <td>1078.000000</td>\n",
       "      <td>1099.000000</td>\n",
       "    </tr>\n",
       "    <tr>\n",
       "      <th>mean</th>\n",
       "      <td>3.066713</td>\n",
       "      <td>4660.708430</td>\n",
       "      <td>11608.167558</td>\n",
       "      <td>830.139914</td>\n",
       "      <td>442.777358</td>\n",
       "      <td>203.923225</td>\n",
       "      <td>592.441247</td>\n",
       "      <td>1900.225101</td>\n",
       "      <td>16024.283006</td>\n",
       "      <td>7383.313944</td>\n",
       "      <td>...</td>\n",
       "      <td>480.442708</td>\n",
       "      <td>611.433996</td>\n",
       "      <td>96.532811</td>\n",
       "      <td>22.844797</td>\n",
       "      <td>6.045714</td>\n",
       "      <td>17.504792</td>\n",
       "      <td>78.013158</td>\n",
       "      <td>206.578870</td>\n",
       "      <td>326.178108</td>\n",
       "      <td>261.083712</td>\n",
       "    </tr>\n",
       "    <tr>\n",
       "      <th>std</th>\n",
       "      <td>6.030008</td>\n",
       "      <td>6234.118986</td>\n",
       "      <td>17233.796816</td>\n",
       "      <td>1480.753712</td>\n",
       "      <td>1156.671400</td>\n",
       "      <td>481.948810</td>\n",
       "      <td>1054.054921</td>\n",
       "      <td>3337.815226</td>\n",
       "      <td>49872.339909</td>\n",
       "      <td>12926.163784</td>\n",
       "      <td>...</td>\n",
       "      <td>910.953396</td>\n",
       "      <td>1254.227149</td>\n",
       "      <td>256.484805</td>\n",
       "      <td>57.916297</td>\n",
       "      <td>7.316674</td>\n",
       "      <td>25.794320</td>\n",
       "      <td>243.101413</td>\n",
       "      <td>668.036006</td>\n",
       "      <td>933.858375</td>\n",
       "      <td>612.468137</td>\n",
       "    </tr>\n",
       "    <tr>\n",
       "      <th>min</th>\n",
       "      <td>0.000000</td>\n",
       "      <td>1.000000</td>\n",
       "      <td>0.000000</td>\n",
       "      <td>0.000000</td>\n",
       "      <td>0.000000</td>\n",
       "      <td>0.000000</td>\n",
       "      <td>0.000000</td>\n",
       "      <td>0.000000</td>\n",
       "      <td>0.000000</td>\n",
       "      <td>2.000000</td>\n",
       "      <td>...</td>\n",
       "      <td>0.000000</td>\n",
       "      <td>1.000000</td>\n",
       "      <td>0.000000</td>\n",
       "      <td>0.000000</td>\n",
       "      <td>0.000000</td>\n",
       "      <td>0.000000</td>\n",
       "      <td>0.000000</td>\n",
       "      <td>0.000000</td>\n",
       "      <td>0.000000</td>\n",
       "      <td>0.000000</td>\n",
       "    </tr>\n",
       "    <tr>\n",
       "      <th>25%</th>\n",
       "      <td>0.000000</td>\n",
       "      <td>415.000000</td>\n",
       "      <td>1271.000000</td>\n",
       "      <td>86.000000</td>\n",
       "      <td>34.500000</td>\n",
       "      <td>21.000000</td>\n",
       "      <td>54.000000</td>\n",
       "      <td>184.000000</td>\n",
       "      <td>483.500000</td>\n",
       "      <td>898.000000</td>\n",
       "      <td>...</td>\n",
       "      <td>35.000000</td>\n",
       "      <td>45.000000</td>\n",
       "      <td>3.000000</td>\n",
       "      <td>2.000000</td>\n",
       "      <td>1.000000</td>\n",
       "      <td>2.000000</td>\n",
       "      <td>5.000000</td>\n",
       "      <td>10.500000</td>\n",
       "      <td>15.000000</td>\n",
       "      <td>18.000000</td>\n",
       "    </tr>\n",
       "    <tr>\n",
       "      <th>50%</th>\n",
       "      <td>1.000000</td>\n",
       "      <td>1903.000000</td>\n",
       "      <td>5710.000000</td>\n",
       "      <td>367.000000</td>\n",
       "      <td>104.000000</td>\n",
       "      <td>73.000000</td>\n",
       "      <td>232.000000</td>\n",
       "      <td>609.000000</td>\n",
       "      <td>3059.500000</td>\n",
       "      <td>3306.000000</td>\n",
       "      <td>...</td>\n",
       "      <td>130.500000</td>\n",
       "      <td>142.000000</td>\n",
       "      <td>12.000000</td>\n",
       "      <td>7.000000</td>\n",
       "      <td>4.000000</td>\n",
       "      <td>8.000000</td>\n",
       "      <td>12.000000</td>\n",
       "      <td>42.000000</td>\n",
       "      <td>48.000000</td>\n",
       "      <td>65.000000</td>\n",
       "    </tr>\n",
       "    <tr>\n",
       "      <th>75%</th>\n",
       "      <td>3.000000</td>\n",
       "      <td>6331.000000</td>\n",
       "      <td>14155.000000</td>\n",
       "      <td>901.000000</td>\n",
       "      <td>283.500000</td>\n",
       "      <td>213.000000</td>\n",
       "      <td>574.000000</td>\n",
       "      <td>2440.500000</td>\n",
       "      <td>10272.750000</td>\n",
       "      <td>7711.000000</td>\n",
       "      <td>...</td>\n",
       "      <td>476.250000</td>\n",
       "      <td>431.000000</td>\n",
       "      <td>54.000000</td>\n",
       "      <td>16.000000</td>\n",
       "      <td>7.000000</td>\n",
       "      <td>19.000000</td>\n",
       "      <td>35.000000</td>\n",
       "      <td>109.500000</td>\n",
       "      <td>171.000000</td>\n",
       "      <td>154.500000</td>\n",
       "    </tr>\n",
       "    <tr>\n",
       "      <th>max</th>\n",
       "      <td>40.000000</td>\n",
       "      <td>48659.000000</td>\n",
       "      <td>137657.000000</td>\n",
       "      <td>14187.000000</td>\n",
       "      <td>8827.000000</td>\n",
       "      <td>8787.000000</td>\n",
       "      <td>5428.000000</td>\n",
       "      <td>37417.000000</td>\n",
       "      <td>406807.000000</td>\n",
       "      <td>137657.000000</td>\n",
       "      <td>...</td>\n",
       "      <td>6345.000000</td>\n",
       "      <td>6658.000000</td>\n",
       "      <td>1702.000000</td>\n",
       "      <td>512.000000</td>\n",
       "      <td>40.000000</td>\n",
       "      <td>111.000000</td>\n",
       "      <td>1805.000000</td>\n",
       "      <td>7929.000000</td>\n",
       "      <td>6658.000000</td>\n",
       "      <td>5426.000000</td>\n",
       "    </tr>\n",
       "  </tbody>\n",
       "</table>\n",
       "<p>8 rows × 24 columns</p>\n",
       "</div>"
      ],
      "text/plain": [
       "       Cases_Total   Cases_Black   Cases_LatinX   Cases_Asian   Cases_AIAN  \\\n",
       "count  1454.000000   1293.000000     561.000000   1165.000000   795.000000   \n",
       "mean      3.066713   4660.708430   11608.167558    830.139914   442.777358   \n",
       "std       6.030008   6234.118986   17233.796816   1480.753712  1156.671400   \n",
       "min       0.000000      1.000000       0.000000      0.000000     0.000000   \n",
       "25%       0.000000    415.000000    1271.000000     86.000000    34.500000   \n",
       "50%       1.000000   1903.000000    5710.000000    367.000000   104.000000   \n",
       "75%       3.000000   6331.000000   14155.000000    901.000000   283.500000   \n",
       "max      40.000000  48659.000000  137657.000000  14187.000000  8827.000000   \n",
       "\n",
       "        Cases_NHPI  Cases_Multiracial   Cases_Other  Cases_Unknown  \\\n",
       "count   521.000000         417.000000   1235.000000    1424.000000   \n",
       "mean    203.923225         592.441247   1900.225101   16024.283006   \n",
       "std     481.948810        1054.054921   3337.815226   49872.339909   \n",
       "min       0.000000           0.000000      0.000000       0.000000   \n",
       "25%      21.000000          54.000000    184.000000     483.500000   \n",
       "50%      73.000000         232.000000    609.000000    3059.500000   \n",
       "75%     213.000000         574.000000   2440.500000   10272.750000   \n",
       "max    8787.000000        5428.000000  37417.000000  406807.000000   \n",
       "\n",
       "       Cases_Ethnicity_Hispanic  ...  Deaths_Black  Deaths_LatinX  \\\n",
       "count               1169.000000  ...   1152.000000     553.000000   \n",
       "mean                7383.313944  ...    480.442708     611.433996   \n",
       "std                12926.163784  ...    910.953396    1254.227149   \n",
       "min                    2.000000  ...      0.000000       1.000000   \n",
       "25%                  898.000000  ...     35.000000      45.000000   \n",
       "50%                 3306.000000  ...    130.500000     142.000000   \n",
       "75%                 7711.000000  ...    476.250000     431.000000   \n",
       "max               137657.000000  ...   6345.000000    6658.000000   \n",
       "\n",
       "       Deaths_Asian  Deaths_americanIndian_alaskanNative  \\\n",
       "count   1021.000000                           567.000000   \n",
       "mean      96.532811                            22.844797   \n",
       "std      256.484805                            57.916297   \n",
       "min        0.000000                             0.000000   \n",
       "25%        3.000000                             2.000000   \n",
       "50%       12.000000                             7.000000   \n",
       "75%       54.000000                            16.000000   \n",
       "max     1702.000000                           512.000000   \n",
       "\n",
       "       Deaths_Native_Hawaiian_Pacific_Islander  Deaths_Multiracial  \\\n",
       "count                               350.000000          313.000000   \n",
       "mean                                  6.045714           17.504792   \n",
       "std                                   7.316674           25.794320   \n",
       "min                                   0.000000            0.000000   \n",
       "25%                                   1.000000            2.000000   \n",
       "50%                                   4.000000            8.000000   \n",
       "75%                                   7.000000           19.000000   \n",
       "max                                  40.000000          111.000000   \n",
       "\n",
       "       Deaths_Other  Deaths_Unknown  Deaths_Ethnicity_Hispanic  \\\n",
       "count   1064.000000     1363.000000                1078.000000   \n",
       "mean      78.013158      206.578870                 326.178108   \n",
       "std      243.101413      668.036006                 933.858375   \n",
       "min        0.000000        0.000000                   0.000000   \n",
       "25%        5.000000       10.500000                  15.000000   \n",
       "50%       12.000000       42.000000                  48.000000   \n",
       "75%       35.000000      109.500000                 171.000000   \n",
       "max     1805.000000     7929.000000                6658.000000   \n",
       "\n",
       "       Deaths_Ethnicity_Unknown  \n",
       "count               1099.000000  \n",
       "mean                 261.083712  \n",
       "std                  612.468137  \n",
       "min                    0.000000  \n",
       "25%                   18.000000  \n",
       "50%                   65.000000  \n",
       "75%                  154.500000  \n",
       "max                 5426.000000  \n",
       "\n",
       "[8 rows x 24 columns]"
      ]
     },
     "execution_count": 357,
     "metadata": {},
     "output_type": "execute_result"
    }
   ],
   "source": [
    "df_race"
   ]
  },
  {
   "cell_type": "code",
   "execution_count": 361,
   "metadata": {},
   "outputs": [],
   "source": [
    "df_race_groupby = df_race.groupby('State').sum().sort_values('Cases_Black')"
   ]
  },
  {
   "cell_type": "code",
   "execution_count": 362,
   "metadata": {
    "collapsed": true,
    "jupyter": {
     "outputs_hidden": true
    }
   },
   "outputs": [
    {
     "data": {
      "text/html": [
       "<div>\n",
       "<style scoped>\n",
       "    .dataframe tbody tr th:only-of-type {\n",
       "        vertical-align: middle;\n",
       "    }\n",
       "\n",
       "    .dataframe tbody tr th {\n",
       "        vertical-align: top;\n",
       "    }\n",
       "\n",
       "    .dataframe thead th {\n",
       "        text-align: right;\n",
       "    }\n",
       "</style>\n",
       "<table border=\"1\" class=\"dataframe\">\n",
       "  <thead>\n",
       "    <tr style=\"text-align: right;\">\n",
       "      <th></th>\n",
       "      <th>Cases_Total</th>\n",
       "      <th>Cases_Black</th>\n",
       "      <th>Cases_LatinX</th>\n",
       "      <th>Cases_Asian</th>\n",
       "      <th>Cases_AIAN</th>\n",
       "      <th>Cases_NHPI</th>\n",
       "      <th>Cases_Multiracial</th>\n",
       "      <th>Cases_Other</th>\n",
       "      <th>Cases_Unknown</th>\n",
       "      <th>Cases_Ethnicity_Hispanic</th>\n",
       "      <th>...</th>\n",
       "      <th>Deaths_Black</th>\n",
       "      <th>Deaths_LatinX</th>\n",
       "      <th>Deaths_Asian</th>\n",
       "      <th>Deaths_americanIndian_alaskanNative</th>\n",
       "      <th>Deaths_Native_Hawaiian_Pacific_Islander</th>\n",
       "      <th>Deaths_Multiracial</th>\n",
       "      <th>Deaths_Other</th>\n",
       "      <th>Deaths_Unknown</th>\n",
       "      <th>Deaths_Ethnicity_Hispanic</th>\n",
       "      <th>Deaths_Ethnicity_Unknown</th>\n",
       "    </tr>\n",
       "  </thead>\n",
       "  <tbody>\n",
       "    <tr>\n",
       "      <th>count</th>\n",
       "      <td>56.000000</td>\n",
       "      <td>56.000000</td>\n",
       "      <td>5.600000e+01</td>\n",
       "      <td>56.000000</td>\n",
       "      <td>56.000000</td>\n",
       "      <td>56.000000</td>\n",
       "      <td>56.000000</td>\n",
       "      <td>56.000000</td>\n",
       "      <td>5.600000e+01</td>\n",
       "      <td>5.600000e+01</td>\n",
       "      <td>...</td>\n",
       "      <td>56.000000</td>\n",
       "      <td>56.000000</td>\n",
       "      <td>56.000000</td>\n",
       "      <td>56.000000</td>\n",
       "      <td>56.000000</td>\n",
       "      <td>56.000000</td>\n",
       "      <td>56.000000</td>\n",
       "      <td>56.000000</td>\n",
       "      <td>56.000000</td>\n",
       "      <td>56.000000</td>\n",
       "    </tr>\n",
       "    <tr>\n",
       "      <th>mean</th>\n",
       "      <td>79.625000</td>\n",
       "      <td>107612.428571</td>\n",
       "      <td>1.162890e+05</td>\n",
       "      <td>17269.875000</td>\n",
       "      <td>6285.857143</td>\n",
       "      <td>1897.214286</td>\n",
       "      <td>4411.571429</td>\n",
       "      <td>41906.750000</td>\n",
       "      <td>4.074746e+05</td>\n",
       "      <td>1.541267e+05</td>\n",
       "      <td>...</td>\n",
       "      <td>9883.392857</td>\n",
       "      <td>6037.910714</td>\n",
       "      <td>1760.000000</td>\n",
       "      <td>231.303571</td>\n",
       "      <td>37.785714</td>\n",
       "      <td>97.839286</td>\n",
       "      <td>1482.250000</td>\n",
       "      <td>5027.982143</td>\n",
       "      <td>6278.928571</td>\n",
       "      <td>5123.767857</td>\n",
       "    </tr>\n",
       "    <tr>\n",
       "      <th>std</th>\n",
       "      <td>133.119845</td>\n",
       "      <td>142823.640294</td>\n",
       "      <td>2.644218e+05</td>\n",
       "      <td>32807.583122</td>\n",
       "      <td>20366.720838</td>\n",
       "      <td>4331.661381</td>\n",
       "      <td>16294.267225</td>\n",
       "      <td>62947.377185</td>\n",
       "      <td>1.120932e+06</td>\n",
       "      <td>2.575087e+05</td>\n",
       "      <td>...</td>\n",
       "      <td>21422.367523</td>\n",
       "      <td>20795.994576</td>\n",
       "      <td>5562.506044</td>\n",
       "      <td>758.010192</td>\n",
       "      <td>103.532290</td>\n",
       "      <td>366.410539</td>\n",
       "      <td>5113.166414</td>\n",
       "      <td>14102.664961</td>\n",
       "      <td>19701.670025</td>\n",
       "      <td>11722.250302</td>\n",
       "    </tr>\n",
       "    <tr>\n",
       "      <th>min</th>\n",
       "      <td>0.000000</td>\n",
       "      <td>0.000000</td>\n",
       "      <td>0.000000e+00</td>\n",
       "      <td>0.000000</td>\n",
       "      <td>0.000000</td>\n",
       "      <td>0.000000</td>\n",
       "      <td>0.000000</td>\n",
       "      <td>0.000000</td>\n",
       "      <td>0.000000e+00</td>\n",
       "      <td>0.000000e+00</td>\n",
       "      <td>...</td>\n",
       "      <td>0.000000</td>\n",
       "      <td>0.000000</td>\n",
       "      <td>0.000000</td>\n",
       "      <td>0.000000</td>\n",
       "      <td>0.000000</td>\n",
       "      <td>0.000000</td>\n",
       "      <td>0.000000</td>\n",
       "      <td>0.000000</td>\n",
       "      <td>0.000000</td>\n",
       "      <td>0.000000</td>\n",
       "    </tr>\n",
       "    <tr>\n",
       "      <th>25%</th>\n",
       "      <td>1.500000</td>\n",
       "      <td>3632.750000</td>\n",
       "      <td>0.000000e+00</td>\n",
       "      <td>987.250000</td>\n",
       "      <td>0.000000</td>\n",
       "      <td>0.000000</td>\n",
       "      <td>0.000000</td>\n",
       "      <td>709.250000</td>\n",
       "      <td>2.186475e+04</td>\n",
       "      <td>2.697750e+03</td>\n",
       "      <td>...</td>\n",
       "      <td>38.750000</td>\n",
       "      <td>0.000000</td>\n",
       "      <td>0.000000</td>\n",
       "      <td>0.000000</td>\n",
       "      <td>0.000000</td>\n",
       "      <td>0.000000</td>\n",
       "      <td>6.750000</td>\n",
       "      <td>255.250000</td>\n",
       "      <td>100.750000</td>\n",
       "      <td>80.500000</td>\n",
       "    </tr>\n",
       "    <tr>\n",
       "      <th>50%</th>\n",
       "      <td>25.500000</td>\n",
       "      <td>32831.000000</td>\n",
       "      <td>2.885000e+02</td>\n",
       "      <td>7083.000000</td>\n",
       "      <td>614.500000</td>\n",
       "      <td>0.000000</td>\n",
       "      <td>0.000000</td>\n",
       "      <td>12938.500000</td>\n",
       "      <td>8.804800e+04</td>\n",
       "      <td>6.527100e+04</td>\n",
       "      <td>...</td>\n",
       "      <td>1683.000000</td>\n",
       "      <td>0.000000</td>\n",
       "      <td>138.500000</td>\n",
       "      <td>2.000000</td>\n",
       "      <td>0.000000</td>\n",
       "      <td>0.000000</td>\n",
       "      <td>182.000000</td>\n",
       "      <td>1290.000000</td>\n",
       "      <td>615.500000</td>\n",
       "      <td>1159.500000</td>\n",
       "    </tr>\n",
       "    <tr>\n",
       "      <th>75%</th>\n",
       "      <td>95.000000</td>\n",
       "      <td>168738.000000</td>\n",
       "      <td>1.148630e+05</td>\n",
       "      <td>18334.500000</td>\n",
       "      <td>3833.500000</td>\n",
       "      <td>820.500000</td>\n",
       "      <td>1017.500000</td>\n",
       "      <td>52439.750000</td>\n",
       "      <td>3.043338e+05</td>\n",
       "      <td>1.664140e+05</td>\n",
       "      <td>...</td>\n",
       "      <td>9061.000000</td>\n",
       "      <td>1685.000000</td>\n",
       "      <td>826.000000</td>\n",
       "      <td>106.500000</td>\n",
       "      <td>11.000000</td>\n",
       "      <td>0.000000</td>\n",
       "      <td>562.250000</td>\n",
       "      <td>2934.000000</td>\n",
       "      <td>2783.000000</td>\n",
       "      <td>2767.000000</td>\n",
       "    </tr>\n",
       "    <tr>\n",
       "      <th>max</th>\n",
       "      <td>786.000000</td>\n",
       "      <td>526066.000000</td>\n",
       "      <td>1.465630e+06</td>\n",
       "      <td>208512.000000</td>\n",
       "      <td>117445.000000</td>\n",
       "      <td>18702.000000</td>\n",
       "      <td>114907.000000</td>\n",
       "      <td>331790.000000</td>\n",
       "      <td>7.951400e+06</td>\n",
       "      <td>1.455028e+06</td>\n",
       "      <td>...</td>\n",
       "      <td>134519.000000</td>\n",
       "      <td>139590.000000</td>\n",
       "      <td>35675.000000</td>\n",
       "      <td>5025.000000</td>\n",
       "      <td>664.000000</td>\n",
       "      <td>2563.000000</td>\n",
       "      <td>36531.000000</td>\n",
       "      <td>93021.000000</td>\n",
       "      <td>131400.000000</td>\n",
       "      <td>65325.000000</td>\n",
       "    </tr>\n",
       "  </tbody>\n",
       "</table>\n",
       "<p>8 rows × 24 columns</p>\n",
       "</div>"
      ],
      "text/plain": [
       "       Cases_Total    Cases_Black  Cases_LatinX    Cases_Asian     Cases_AIAN  \\\n",
       "count    56.000000      56.000000  5.600000e+01      56.000000      56.000000   \n",
       "mean     79.625000  107612.428571  1.162890e+05   17269.875000    6285.857143   \n",
       "std     133.119845  142823.640294  2.644218e+05   32807.583122   20366.720838   \n",
       "min       0.000000       0.000000  0.000000e+00       0.000000       0.000000   \n",
       "25%       1.500000    3632.750000  0.000000e+00     987.250000       0.000000   \n",
       "50%      25.500000   32831.000000  2.885000e+02    7083.000000     614.500000   \n",
       "75%      95.000000  168738.000000  1.148630e+05   18334.500000    3833.500000   \n",
       "max     786.000000  526066.000000  1.465630e+06  208512.000000  117445.000000   \n",
       "\n",
       "         Cases_NHPI  Cases_Multiracial    Cases_Other  Cases_Unknown  \\\n",
       "count     56.000000          56.000000      56.000000   5.600000e+01   \n",
       "mean    1897.214286        4411.571429   41906.750000   4.074746e+05   \n",
       "std     4331.661381       16294.267225   62947.377185   1.120932e+06   \n",
       "min        0.000000           0.000000       0.000000   0.000000e+00   \n",
       "25%        0.000000           0.000000     709.250000   2.186475e+04   \n",
       "50%        0.000000           0.000000   12938.500000   8.804800e+04   \n",
       "75%      820.500000        1017.500000   52439.750000   3.043338e+05   \n",
       "max    18702.000000      114907.000000  331790.000000   7.951400e+06   \n",
       "\n",
       "       Cases_Ethnicity_Hispanic  ...   Deaths_Black  Deaths_LatinX  \\\n",
       "count              5.600000e+01  ...      56.000000      56.000000   \n",
       "mean               1.541267e+05  ...    9883.392857    6037.910714   \n",
       "std                2.575087e+05  ...   21422.367523   20795.994576   \n",
       "min                0.000000e+00  ...       0.000000       0.000000   \n",
       "25%                2.697750e+03  ...      38.750000       0.000000   \n",
       "50%                6.527100e+04  ...    1683.000000       0.000000   \n",
       "75%                1.664140e+05  ...    9061.000000    1685.000000   \n",
       "max                1.455028e+06  ...  134519.000000  139590.000000   \n",
       "\n",
       "       Deaths_Asian  Deaths_americanIndian_alaskanNative  \\\n",
       "count     56.000000                            56.000000   \n",
       "mean    1760.000000                           231.303571   \n",
       "std     5562.506044                           758.010192   \n",
       "min        0.000000                             0.000000   \n",
       "25%        0.000000                             0.000000   \n",
       "50%      138.500000                             2.000000   \n",
       "75%      826.000000                           106.500000   \n",
       "max    35675.000000                          5025.000000   \n",
       "\n",
       "       Deaths_Native_Hawaiian_Pacific_Islander  Deaths_Multiracial  \\\n",
       "count                                56.000000           56.000000   \n",
       "mean                                 37.785714           97.839286   \n",
       "std                                 103.532290          366.410539   \n",
       "min                                   0.000000            0.000000   \n",
       "25%                                   0.000000            0.000000   \n",
       "50%                                   0.000000            0.000000   \n",
       "75%                                  11.000000            0.000000   \n",
       "max                                 664.000000         2563.000000   \n",
       "\n",
       "       Deaths_Other  Deaths_Unknown  Deaths_Ethnicity_Hispanic  \\\n",
       "count     56.000000       56.000000                  56.000000   \n",
       "mean    1482.250000     5027.982143                6278.928571   \n",
       "std     5113.166414    14102.664961               19701.670025   \n",
       "min        0.000000        0.000000                   0.000000   \n",
       "25%        6.750000      255.250000                 100.750000   \n",
       "50%      182.000000     1290.000000                 615.500000   \n",
       "75%      562.250000     2934.000000                2783.000000   \n",
       "max    36531.000000    93021.000000              131400.000000   \n",
       "\n",
       "       Deaths_Ethnicity_Unknown  \n",
       "count                 56.000000  \n",
       "mean                5123.767857  \n",
       "std                11722.250302  \n",
       "min                    0.000000  \n",
       "25%                   80.500000  \n",
       "50%                 1159.500000  \n",
       "75%                 2767.000000  \n",
       "max                65325.000000  \n",
       "\n",
       "[8 rows x 24 columns]"
      ]
     },
     "execution_count": 362,
     "metadata": {},
     "output_type": "execute_result"
    }
   ],
   "source": [
    "df_race_groupby.describe()"
   ]
  },
  {
   "cell_type": "code",
   "execution_count": 363,
   "metadata": {},
   "outputs": [],
   "source": [
    "df_raceBl_25 = df_race_groupby[df_race_groupby['Cases_Black'] <= 3632.75]\n",
    "df_raceBl_50 = df_race_groupby[(df_race_groupby['Cases_Black'] > 3632.75) & (df_race_groupby['Cases_Black'] <= 32831)]\n",
    "df_raceBl_75 = df_race_groupby[(df_race_groupby['Cases_Black'] > 32831) & (df_race_groupby['Cases_Black'] <= 168738)]\n",
    "df_raceBl_100 = df_race_groupby[(df_race_groupby['Cases_Black'] > 168738) & (df_race_groupby['Cases_Black'] <= 526066)]"
   ]
  },
  {
   "cell_type": "markdown",
   "metadata": {},
   "source": [
    "**Graphs of Sum of Black patients who tested positive for Covid**"
   ]
  },
  {
   "cell_type": "code",
   "execution_count": 368,
   "metadata": {
    "collapsed": true,
    "jupyter": {
     "outputs_hidden": true
    }
   },
   "outputs": [
    {
     "data": {
      "image/png": "[encoded data removed]",
      "text/plain": [
       "<Figure size 1008x864 with 1 Axes>"
      ]
     },
     "metadata": {
      "needs_background": "light"
     },
     "output_type": "display_data"
    }
   ],
   "source": [
    "fig, ax = plt.subplots(figsize=(14,12))\n",
    "ax.bar(x = df_raceBl_25.index, height=df_raceBl_25['Cases_Black'])\n",
    "ax.set_title('<= 25th Percentile Positive RaceBlack Covid Cases per State/Territory', fontsize=15)\n",
    "ax.set_xlabel('States', fontsize=15, labelpad=33)\n",
    "ax.set_ylabel('Sum', rotation=0, labelpad=75, fontsize=15)\n",
    "plt.show()"
   ]
  },
  {
   "cell_type": "code",
   "execution_count": 369,
   "metadata": {
    "collapsed": true,
    "jupyter": {
     "outputs_hidden": true
    }
   },
   "outputs": [
    {
     "data": {
      "image/png": "[encoded data removed]",
      "text/plain": [
       "<Figure size 1008x864 with 1 Axes>"
      ]
     },
     "metadata": {
      "needs_background": "light"
     },
     "output_type": "display_data"
    }
   ],
   "source": [
    "fig, ax = plt.subplots(figsize=(14,12))\n",
    "ax.bar(x = df_raceBl_50.index, height=df_raceBl_50['Cases_Black'])\n",
    "ax.set_title('25th <= 50th Percentile Positive RaceBlack Covid Cases per State/Territory', fontsize=15)\n",
    "ax.set_xlabel('States', fontsize=15, labelpad=33)\n",
    "ax.set_ylabel('Sum', rotation=0, labelpad=75, fontsize=15)\n",
    "plt.show()"
   ]
  },
  {
   "cell_type": "code",
   "execution_count": 370,
   "metadata": {
    "collapsed": true,
    "jupyter": {
     "outputs_hidden": true
    }
   },
   "outputs": [
    {
     "data": {
      "image/png": "[encoded data removed]",
      "text/plain": [
       "<Figure size 1008x864 with 1 Axes>"
      ]
     },
     "metadata": {
      "needs_background": "light"
     },
     "output_type": "display_data"
    }
   ],
   "source": [
    "fig, ax = plt.subplots(figsize=(14,12))\n",
    "ax.bar(x = df_raceBl_75.index, height=df_raceBl_75['Cases_Black'])\n",
    "ax.set_title('50th <= 75th Percentile Positive RaceBlack Covid Cases per State/Territory', fontsize=15)\n",
    "ax.set_xlabel('States', fontsize=15, labelpad=33)\n",
    "ax.set_ylabel('Sum', rotation=0, labelpad=75, fontsize=15)\n",
    "plt.show()"
   ]
  },
  {
   "cell_type": "code",
   "execution_count": 371,
   "metadata": {
    "collapsed": true,
    "jupyter": {
     "outputs_hidden": true
    }
   },
   "outputs": [
    {
     "data": {
      "image/png": "[encoded data removed]",
      "text/plain": [
       "<Figure size 1008x864 with 1 Axes>"
      ]
     },
     "metadata": {
      "needs_background": "light"
     },
     "output_type": "display_data"
    }
   ],
   "source": [
    "fig, ax = plt.subplots(figsize=(14,12))\n",
    "ax.bar(x = df_raceBl_100.index, height=df_raceBl_100['Cases_Black'])\n",
    "ax.set_title('75th <= 100th Percentile Positive RaceBlack Covid Cases per State/Territory', fontsize=15)\n",
    "ax.set_xlabel('States', fontsize=15, labelpad=33)\n",
    "ax.set_ylabel('Sum', rotation=0, labelpad=75, fontsize=15)\n",
    "plt.show()"
   ]
  },
  {
   "cell_type": "markdown",
   "metadata": {},
   "source": [
    "**Graphs of Sum of LatinX patients who tested positive for Covid**"
   ]
  },
  {
   "cell_type": "code",
   "execution_count": 376,
   "metadata": {},
   "outputs": [
    {
     "data": {
      "text/html": [
       "<div>\n",
       "<style scoped>\n",
       "    .dataframe tbody tr th:only-of-type {\n",
       "        vertical-align: middle;\n",
       "    }\n",
       "\n",
       "    .dataframe tbody tr th {\n",
       "        vertical-align: top;\n",
       "    }\n",
       "\n",
       "    .dataframe thead th {\n",
       "        text-align: right;\n",
       "    }\n",
       "</style>\n",
       "<table border=\"1\" class=\"dataframe\">\n",
       "  <thead>\n",
       "    <tr style=\"text-align: right;\">\n",
       "      <th></th>\n",
       "      <th>Cases_Total</th>\n",
       "      <th>Cases_Black</th>\n",
       "      <th>Cases_LatinX</th>\n",
       "      <th>Cases_Asian</th>\n",
       "      <th>Cases_AIAN</th>\n",
       "      <th>Cases_NHPI</th>\n",
       "      <th>Cases_Multiracial</th>\n",
       "      <th>Cases_Other</th>\n",
       "      <th>Cases_Unknown</th>\n",
       "      <th>Cases_Ethnicity_Hispanic</th>\n",
       "      <th>...</th>\n",
       "      <th>Deaths_Black</th>\n",
       "      <th>Deaths_LatinX</th>\n",
       "      <th>Deaths_Asian</th>\n",
       "      <th>Deaths_americanIndian_alaskanNative</th>\n",
       "      <th>Deaths_Native_Hawaiian_Pacific_Islander</th>\n",
       "      <th>Deaths_Multiracial</th>\n",
       "      <th>Deaths_Other</th>\n",
       "      <th>Deaths_Unknown</th>\n",
       "      <th>Deaths_Ethnicity_Hispanic</th>\n",
       "      <th>Deaths_Ethnicity_Unknown</th>\n",
       "    </tr>\n",
       "  </thead>\n",
       "  <tbody>\n",
       "    <tr>\n",
       "      <th>count</th>\n",
       "      <td>56.000000</td>\n",
       "      <td>56.000000</td>\n",
       "      <td>5.600000e+01</td>\n",
       "      <td>56.000000</td>\n",
       "      <td>56.000000</td>\n",
       "      <td>56.000000</td>\n",
       "      <td>56.000000</td>\n",
       "      <td>56.000000</td>\n",
       "      <td>5.600000e+01</td>\n",
       "      <td>5.600000e+01</td>\n",
       "      <td>...</td>\n",
       "      <td>56.000000</td>\n",
       "      <td>56.000000</td>\n",
       "      <td>56.000000</td>\n",
       "      <td>56.000000</td>\n",
       "      <td>56.000000</td>\n",
       "      <td>56.000000</td>\n",
       "      <td>56.000000</td>\n",
       "      <td>56.000000</td>\n",
       "      <td>56.000000</td>\n",
       "      <td>56.000000</td>\n",
       "    </tr>\n",
       "    <tr>\n",
       "      <th>mean</th>\n",
       "      <td>79.625000</td>\n",
       "      <td>107612.428571</td>\n",
       "      <td>1.162890e+05</td>\n",
       "      <td>17269.875000</td>\n",
       "      <td>6285.857143</td>\n",
       "      <td>1897.214286</td>\n",
       "      <td>4411.571429</td>\n",
       "      <td>41906.750000</td>\n",
       "      <td>4.074746e+05</td>\n",
       "      <td>1.541267e+05</td>\n",
       "      <td>...</td>\n",
       "      <td>9883.392857</td>\n",
       "      <td>6037.910714</td>\n",
       "      <td>1760.000000</td>\n",
       "      <td>231.303571</td>\n",
       "      <td>37.785714</td>\n",
       "      <td>97.839286</td>\n",
       "      <td>1482.250000</td>\n",
       "      <td>5027.982143</td>\n",
       "      <td>6278.928571</td>\n",
       "      <td>5123.767857</td>\n",
       "    </tr>\n",
       "    <tr>\n",
       "      <th>std</th>\n",
       "      <td>133.119845</td>\n",
       "      <td>142823.640294</td>\n",
       "      <td>2.644218e+05</td>\n",
       "      <td>32807.583122</td>\n",
       "      <td>20366.720838</td>\n",
       "      <td>4331.661381</td>\n",
       "      <td>16294.267225</td>\n",
       "      <td>62947.377185</td>\n",
       "      <td>1.120932e+06</td>\n",
       "      <td>2.575087e+05</td>\n",
       "      <td>...</td>\n",
       "      <td>21422.367523</td>\n",
       "      <td>20795.994576</td>\n",
       "      <td>5562.506044</td>\n",
       "      <td>758.010192</td>\n",
       "      <td>103.532290</td>\n",
       "      <td>366.410539</td>\n",
       "      <td>5113.166414</td>\n",
       "      <td>14102.664961</td>\n",
       "      <td>19701.670025</td>\n",
       "      <td>11722.250302</td>\n",
       "    </tr>\n",
       "    <tr>\n",
       "      <th>min</th>\n",
       "      <td>0.000000</td>\n",
       "      <td>0.000000</td>\n",
       "      <td>0.000000e+00</td>\n",
       "      <td>0.000000</td>\n",
       "      <td>0.000000</td>\n",
       "      <td>0.000000</td>\n",
       "      <td>0.000000</td>\n",
       "      <td>0.000000</td>\n",
       "      <td>0.000000e+00</td>\n",
       "      <td>0.000000e+00</td>\n",
       "      <td>...</td>\n",
       "      <td>0.000000</td>\n",
       "      <td>0.000000</td>\n",
       "      <td>0.000000</td>\n",
       "      <td>0.000000</td>\n",
       "      <td>0.000000</td>\n",
       "      <td>0.000000</td>\n",
       "      <td>0.000000</td>\n",
       "      <td>0.000000</td>\n",
       "      <td>0.000000</td>\n",
       "      <td>0.000000</td>\n",
       "    </tr>\n",
       "    <tr>\n",
       "      <th>25%</th>\n",
       "      <td>1.500000</td>\n",
       "      <td>3632.750000</td>\n",
       "      <td>0.000000e+00</td>\n",
       "      <td>987.250000</td>\n",
       "      <td>0.000000</td>\n",
       "      <td>0.000000</td>\n",
       "      <td>0.000000</td>\n",
       "      <td>709.250000</td>\n",
       "      <td>2.186475e+04</td>\n",
       "      <td>2.697750e+03</td>\n",
       "      <td>...</td>\n",
       "      <td>38.750000</td>\n",
       "      <td>0.000000</td>\n",
       "      <td>0.000000</td>\n",
       "      <td>0.000000</td>\n",
       "      <td>0.000000</td>\n",
       "      <td>0.000000</td>\n",
       "      <td>6.750000</td>\n",
       "      <td>255.250000</td>\n",
       "      <td>100.750000</td>\n",
       "      <td>80.500000</td>\n",
       "    </tr>\n",
       "    <tr>\n",
       "      <th>50%</th>\n",
       "      <td>25.500000</td>\n",
       "      <td>32831.000000</td>\n",
       "      <td>2.885000e+02</td>\n",
       "      <td>7083.000000</td>\n",
       "      <td>614.500000</td>\n",
       "      <td>0.000000</td>\n",
       "      <td>0.000000</td>\n",
       "      <td>12938.500000</td>\n",
       "      <td>8.804800e+04</td>\n",
       "      <td>6.527100e+04</td>\n",
       "      <td>...</td>\n",
       "      <td>1683.000000</td>\n",
       "      <td>0.000000</td>\n",
       "      <td>138.500000</td>\n",
       "      <td>2.000000</td>\n",
       "      <td>0.000000</td>\n",
       "      <td>0.000000</td>\n",
       "      <td>182.000000</td>\n",
       "      <td>1290.000000</td>\n",
       "      <td>615.500000</td>\n",
       "      <td>1159.500000</td>\n",
       "    </tr>\n",
       "    <tr>\n",
       "      <th>75%</th>\n",
       "      <td>95.000000</td>\n",
       "      <td>168738.000000</td>\n",
       "      <td>1.148630e+05</td>\n",
       "      <td>18334.500000</td>\n",
       "      <td>3833.500000</td>\n",
       "      <td>820.500000</td>\n",
       "      <td>1017.500000</td>\n",
       "      <td>52439.750000</td>\n",
       "      <td>3.043338e+05</td>\n",
       "      <td>1.664140e+05</td>\n",
       "      <td>...</td>\n",
       "      <td>9061.000000</td>\n",
       "      <td>1685.000000</td>\n",
       "      <td>826.000000</td>\n",
       "      <td>106.500000</td>\n",
       "      <td>11.000000</td>\n",
       "      <td>0.000000</td>\n",
       "      <td>562.250000</td>\n",
       "      <td>2934.000000</td>\n",
       "      <td>2783.000000</td>\n",
       "      <td>2767.000000</td>\n",
       "    </tr>\n",
       "    <tr>\n",
       "      <th>max</th>\n",
       "      <td>786.000000</td>\n",
       "      <td>526066.000000</td>\n",
       "      <td>1.465630e+06</td>\n",
       "      <td>208512.000000</td>\n",
       "      <td>117445.000000</td>\n",
       "      <td>18702.000000</td>\n",
       "      <td>114907.000000</td>\n",
       "      <td>331790.000000</td>\n",
       "      <td>7.951400e+06</td>\n",
       "      <td>1.455028e+06</td>\n",
       "      <td>...</td>\n",
       "      <td>134519.000000</td>\n",
       "      <td>139590.000000</td>\n",
       "      <td>35675.000000</td>\n",
       "      <td>5025.000000</td>\n",
       "      <td>664.000000</td>\n",
       "      <td>2563.000000</td>\n",
       "      <td>36531.000000</td>\n",
       "      <td>93021.000000</td>\n",
       "      <td>131400.000000</td>\n",
       "      <td>65325.000000</td>\n",
       "    </tr>\n",
       "  </tbody>\n",
       "</table>\n",
       "<p>8 rows × 24 columns</p>\n",
       "</div>"
      ],
      "text/plain": [
       "       Cases_Total    Cases_Black  Cases_LatinX    Cases_Asian     Cases_AIAN  \\\n",
       "count    56.000000      56.000000  5.600000e+01      56.000000      56.000000   \n",
       "mean     79.625000  107612.428571  1.162890e+05   17269.875000    6285.857143   \n",
       "std     133.119845  142823.640294  2.644218e+05   32807.583122   20366.720838   \n",
       "min       0.000000       0.000000  0.000000e+00       0.000000       0.000000   \n",
       "25%       1.500000    3632.750000  0.000000e+00     987.250000       0.000000   \n",
       "50%      25.500000   32831.000000  2.885000e+02    7083.000000     614.500000   \n",
       "75%      95.000000  168738.000000  1.148630e+05   18334.500000    3833.500000   \n",
       "max     786.000000  526066.000000  1.465630e+06  208512.000000  117445.000000   \n",
       "\n",
       "         Cases_NHPI  Cases_Multiracial    Cases_Other  Cases_Unknown  \\\n",
       "count     56.000000          56.000000      56.000000   5.600000e+01   \n",
       "mean    1897.214286        4411.571429   41906.750000   4.074746e+05   \n",
       "std     4331.661381       16294.267225   62947.377185   1.120932e+06   \n",
       "min        0.000000           0.000000       0.000000   0.000000e+00   \n",
       "25%        0.000000           0.000000     709.250000   2.186475e+04   \n",
       "50%        0.000000           0.000000   12938.500000   8.804800e+04   \n",
       "75%      820.500000        1017.500000   52439.750000   3.043338e+05   \n",
       "max    18702.000000      114907.000000  331790.000000   7.951400e+06   \n",
       "\n",
       "       Cases_Ethnicity_Hispanic  ...   Deaths_Black  Deaths_LatinX  \\\n",
       "count              5.600000e+01  ...      56.000000      56.000000   \n",
       "mean               1.541267e+05  ...    9883.392857    6037.910714   \n",
       "std                2.575087e+05  ...   21422.367523   20795.994576   \n",
       "min                0.000000e+00  ...       0.000000       0.000000   \n",
       "25%                2.697750e+03  ...      38.750000       0.000000   \n",
       "50%                6.527100e+04  ...    1683.000000       0.000000   \n",
       "75%                1.664140e+05  ...    9061.000000    1685.000000   \n",
       "max                1.455028e+06  ...  134519.000000  139590.000000   \n",
       "\n",
       "       Deaths_Asian  Deaths_americanIndian_alaskanNative  \\\n",
       "count     56.000000                            56.000000   \n",
       "mean    1760.000000                           231.303571   \n",
       "std     5562.506044                           758.010192   \n",
       "min        0.000000                             0.000000   \n",
       "25%        0.000000                             0.000000   \n",
       "50%      138.500000                             2.000000   \n",
       "75%      826.000000                           106.500000   \n",
       "max    35675.000000                          5025.000000   \n",
       "\n",
       "       Deaths_Native_Hawaiian_Pacific_Islander  Deaths_Multiracial  \\\n",
       "count                                56.000000           56.000000   \n",
       "mean                                 37.785714           97.839286   \n",
       "std                                 103.532290          366.410539   \n",
       "min                                   0.000000            0.000000   \n",
       "25%                                   0.000000            0.000000   \n",
       "50%                                   0.000000            0.000000   \n",
       "75%                                  11.000000            0.000000   \n",
       "max                                 664.000000         2563.000000   \n",
       "\n",
       "       Deaths_Other  Deaths_Unknown  Deaths_Ethnicity_Hispanic  \\\n",
       "count     56.000000       56.000000                  56.000000   \n",
       "mean    1482.250000     5027.982143                6278.928571   \n",
       "std     5113.166414    14102.664961               19701.670025   \n",
       "min        0.000000        0.000000                   0.000000   \n",
       "25%        6.750000      255.250000                 100.750000   \n",
       "50%      182.000000     1290.000000                 615.500000   \n",
       "75%      562.250000     2934.000000                2783.000000   \n",
       "max    36531.000000    93021.000000              131400.000000   \n",
       "\n",
       "       Deaths_Ethnicity_Unknown  \n",
       "count                 56.000000  \n",
       "mean                5123.767857  \n",
       "std                11722.250302  \n",
       "min                    0.000000  \n",
       "25%                   80.500000  \n",
       "50%                 1159.500000  \n",
       "75%                 2767.000000  \n",
       "max                65325.000000  \n",
       "\n",
       "[8 rows x 24 columns]"
      ]
     },
     "execution_count": 376,
     "metadata": {},
     "output_type": "execute_result"
    }
   ],
   "source": [
    "df_race_groupby_LAX = df_race.groupby('State').sum().sort_values('Cases_LatinX')\n",
    "df_race_groupby_LAX.describe()"
   ]
  },
  {
   "cell_type": "code",
   "execution_count": 378,
   "metadata": {},
   "outputs": [],
   "source": [
    "df_race_groupby_LAX25 = df_race_groupby_LAX[df_race_groupby_LAX['Cases_LatinX'] <= 0]\n",
    "df_race_groupby_LAX50 = df_race_groupby_LAX[(df_race_groupby_LAX['Cases_LatinX'] > 0) & (df_race_groupby_LAX['Cases_LatinX'] <= 288.5)]\n",
    "df_race_groupby_LAX75 = df_race_groupby_LAX[(df_race_groupby_LAX['Cases_LatinX'] > 288.5) & (df_race_groupby_LAX['Cases_LatinX'] <= 114863)]\n",
    "df_race_groupby_LAX100 = df_race_groupby_LAX[(df_race_groupby_LAX['Cases_LatinX'] > 114863) & (df_race_groupby_LAX['Cases_LatinX'] <= 1465630)]"
   ]
  },
  {
   "cell_type": "code",
   "execution_count": 384,
   "metadata": {},
   "outputs": [
    {
     "data": {
      "image/png": "[encoded data removed]",
      "text/plain": [
       "<Figure size 720x360 with 1 Axes>"
      ]
     },
     "metadata": {
      "needs_background": "light"
     },
     "output_type": "display_data"
    }
   ],
   "source": [
    "fig, ax = plt.subplots(figsize=(10,5))\n",
    "ax.bar(x = df_race_groupby_LAX50.index, height=df_race_groupby_LAX50['Cases_LatinX'])\n",
    "ax.set_title('25th < 50th Percentile Positive LatinX Covid Cases per State/Territory', fontsize=15)\n",
    "ax.set_xlabel('States', fontsize=15, labelpad=33)\n",
    "ax.set_ylabel('Sum', rotation=0, labelpad=60, fontsize=15)\n",
    "plt.show()"
   ]
  },
  {
   "cell_type": "code",
   "execution_count": 386,
   "metadata": {
    "collapsed": true,
    "jupyter": {
     "outputs_hidden": true
    }
   },
   "outputs": [
    {
     "data": {
      "image/png": "[encoded data removed]",
      "text/plain": [
       "<Figure size 1008x720 with 1 Axes>"
      ]
     },
     "metadata": {
      "needs_background": "light"
     },
     "output_type": "display_data"
    }
   ],
   "source": [
    "fig, ax = plt.subplots(figsize=(14,10))\n",
    "ax.bar(x = df_race_groupby_LAX75.index, height=df_race_groupby_LAX75['Cases_LatinX'])\n",
    "ax.set_title('50th <= 75th Percentile Positive LatinX Covid Cases per State/Territory', fontsize=15)\n",
    "ax.set_xlabel('States', fontsize=15, labelpad=33)\n",
    "ax.set_ylabel('Sum', rotation=0, labelpad=75, fontsize=15)\n",
    "plt.show()"
   ]
  },
  {
   "cell_type": "code",
   "execution_count": 390,
   "metadata": {
    "collapsed": true,
    "jupyter": {
     "outputs_hidden": true
    }
   },
   "outputs": [
    {
     "data": {
      "image/png": "[encoded data removed]",
      "text/plain": [
       "<Figure size 1008x720 with 1 Axes>"
      ]
     },
     "metadata": {
      "needs_background": "light"
     },
     "output_type": "display_data"
    }
   ],
   "source": [
    "fig, ax = plt.subplots(figsize=(14,10))\n",
    "ax.bar(x = df_race_groupby_LAX100.index, height=df_race_groupby_LAX100['Cases_LatinX'])\n",
    "ax.set_title('75th <= 100th Percentile Positive LatinX Covid Cases per State/Territory', fontsize=15)\n",
    "ax.set_xlabel('States', fontsize=15, labelpad=33)\n",
    "ax.set_ylabel('Sum x 10^6', rotation=0, labelpad=75, fontsize=15)\n",
    "plt.show()"
   ]
  },
  {
   "cell_type": "code",
   "execution_count": 388,
   "metadata": {},
   "outputs": [
    {
     "data": {
      "text/plain": [
       "30"
      ]
     },
     "execution_count": 388,
     "metadata": {},
     "output_type": "execute_result"
    }
   ],
   "source": [
    "len(df_race_groupby_LAX50) + len(df_race_groupby_LAX75) + len(df_race_groupby_LAX100)"
   ]
  },
  {
   "cell_type": "code",
   "execution_count": 389,
   "metadata": {},
   "outputs": [
    {
     "data": {
      "text/plain": [
       "56"
      ]
     },
     "execution_count": 389,
     "metadata": {},
     "output_type": "execute_result"
    }
   ],
   "source": [
    "len(df_raceBl_25) + len(df_raceBl_50) + len(df_raceBl_75) + len(df_raceBl_100)"
   ]
  },
  {
   "cell_type": "code",
   "execution_count": null,
   "metadata": {},
   "outputs": [],
   "source": []
  }
 ],
 "metadata": {
  "kernelspec": {
   "display_name": "Python 3",
   "language": "python",
   "name": "python3"
  },
  "language_info": {
   "codemirror_mode": {
    "name": "ipython",
    "version": 3
   },
   "file_extension": ".py",
   "mimetype": "text/x-python",
   "name": "python",
   "nbconvert_exporter": "python",
   "pygments_lexer": "ipython3",
   "version": "3.8.3"
  }
 },
 "nbformat": 4,
 "nbformat_minor": 4
}
