{
 "cells": [
  {
   "cell_type": "code",
   "execution_count": 1,
   "metadata": {},
   "outputs": [],
   "source": [
    "import csv\n",
    "import pyspark as ps\n",
    "\n",
    "spark = (ps.sql.SparkSession.builder\n",
    "         .master(\"local[4]\") \n",
    "         .appName(\"df lecture\") \n",
    "         .getOrCreate())\n",
    "\n",
    "sc = spark.sparkContext"
   ]
  },
  {
   "cell_type": "code",
   "execution_count": 2,
   "metadata": {
    "collapsed": true,
    "jupyter": {
     "outputs_hidden": true
    }
   },
   "outputs": [
    {
     "name": "stdout",
     "output_type": "stream",
     "text": [
      "root\n",
      " |-- _c0: string (nullable = true)\n",
      " |-- _c1: string (nullable = true)\n",
      " |-- _c2: string (nullable = true)\n",
      " |-- _c3: string (nullable = true)\n",
      " |-- _c4: string (nullable = true)\n",
      " |-- _c5: string (nullable = true)\n",
      " |-- _c6: string (nullable = true)\n",
      " |-- _c7: string (nullable = true)\n",
      " |-- _c8: string (nullable = true)\n",
      " |-- _c9: string (nullable = true)\n",
      " |-- _c10: string (nullable = true)\n",
      " |-- _c11: string (nullable = true)\n",
      " |-- _c12: string (nullable = true)\n",
      " |-- _c13: string (nullable = true)\n",
      " |-- _c14: string (nullable = true)\n",
      " |-- _c15: string (nullable = true)\n",
      " |-- _c16: string (nullable = true)\n",
      " |-- _c17: string (nullable = true)\n",
      " |-- _c18: string (nullable = true)\n",
      " |-- _c19: string (nullable = true)\n",
      " |-- _c20: string (nullable = true)\n",
      " |-- _c21: string (nullable = true)\n",
      " |-- _c22: string (nullable = true)\n",
      " |-- _c23: string (nullable = true)\n",
      " |-- _c24: string (nullable = true)\n",
      " |-- _c25: string (nullable = true)\n",
      " |-- _c26: string (nullable = true)\n",
      " |-- _c27: string (nullable = true)\n",
      " |-- _c28: string (nullable = true)\n",
      " |-- _c29: string (nullable = true)\n",
      " |-- _c30: string (nullable = true)\n",
      " |-- _c31: string (nullable = true)\n",
      " |-- _c32: string (nullable = true)\n",
      " |-- _c33: string (nullable = true)\n",
      " |-- _c34: string (nullable = true)\n",
      " |-- _c35: string (nullable = true)\n",
      " |-- _c36: string (nullable = true)\n",
      " |-- _c37: string (nullable = true)\n",
      " |-- _c38: string (nullable = true)\n",
      " |-- _c39: string (nullable = true)\n",
      " |-- _c40: string (nullable = true)\n",
      "\n"
     ]
    }
   ],
   "source": [
    "df = spark.read.csv('daily_data.csv')\n",
    "df.printSchema()"
   ]
  },
  {
   "cell_type": "code",
   "execution_count": 4,
   "metadata": {
    "collapsed": true,
    "jupyter": {
     "outputs_hidden": true,
     "source_hidden": true
    }
   },
   "outputs": [
    {
     "data": {
      "text/plain": [
       "[['date',\n",
       "  'state',\n",
       "  'positive',\n",
       "  'negative',\n",
       "  'pending',\n",
       "  'hospitalizedCurrently',\n",
       "  'hospitalizedCumulative',\n",
       "  'inIcuCurrently',\n",
       "  'inIcuCumulative',\n",
       "  'onVentilatorCurrently',\n",
       "  'onVentilatorCumulative',\n",
       "  'recovered',\n",
       "  'dataQualityGrade',\n",
       "  'lastUpdateEt',\n",
       "  'dateModified',\n",
       "  'checkTimeEt',\n",
       "  'death',\n",
       "  'hospitalized',\n",
       "  'dateChecked',\n",
       "  'totalTestsViral',\n",
       "  'positiveTestsViral',\n",
       "  'negativeTestsViral',\n",
       "  'positiveCasesViral',\n",
       "  'deathConfirmed',\n",
       "  'deathProbable',\n",
       "  'fips',\n",
       "  'positiveIncrease',\n",
       "  'negativeIncrease',\n",
       "  'total',\n",
       "  'totalTestResults',\n",
       "  'totalTestResultsIncrease',\n",
       "  'posNeg',\n",
       "  'deathIncrease',\n",
       "  'hospitalizedIncrease',\n",
       "  'hash',\n",
       "  'commercialScore',\n",
       "  'negativeRegularScore',\n",
       "  'negativeScore',\n",
       "  'positiveScore',\n",
       "  'score',\n",
       "  'grade']]"
      ]
     },
     "execution_count": 4,
     "metadata": {},
     "output_type": "execute_result"
    }
   ],
   "source": [
    "covids = sc.textFile('daily_data.csv')\n",
    "covid_cols = covids.take(1)\n",
    "\n",
    "def cols(covid_cols):\n",
    "    return [column.split(',') for column in covid_cols]\n",
    "\n",
    "cols(covid_cols)"
   ]
  },
  {
   "cell_type": "code",
   "execution_count": null,
   "metadata": {},
   "outputs": [],
   "source": []
  },
  {
   "cell_type": "code",
   "execution_count": null,
   "metadata": {},
   "outputs": [],
   "source": []
  },
  {
   "cell_type": "code",
   "execution_count": null,
   "metadata": {},
   "outputs": [],
   "source": []
  }
 ],
 "metadata": {
  "kernelspec": {
   "display_name": "Python 3",
   "language": "python",
   "name": "python3"
  },
  "language_info": {
   "codemirror_mode": {
    "name": "ipython",
    "version": 3
   },
   "file_extension": ".py",
   "mimetype": "text/x-python",
   "name": "python",
   "nbconvert_exporter": "python",
   "pygments_lexer": "ipython3",
   "version": "3.8.3"
  }
 },
 "nbformat": 4,
 "nbformat_minor": 4
}
